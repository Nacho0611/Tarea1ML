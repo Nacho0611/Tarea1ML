{
  "nbformat": 4,
  "nbformat_minor": 0,
  "metadata": {
    "colab": {
      "provenance": []
    },
    "kernelspec": {
      "name": "python3",
      "display_name": "Python 3"
    },
    "language_info": {
      "name": "python"
    }
  },
  "cells": [
    {
      "cell_type": "markdown",
      "source": [
        "EAE3709 APLICACIONES DE  MACHINE LEARNING EN ECONOMÍA <br>\n",
        "1ER SEMESTRE 2025 <br>\n",
        "INSTITUTO DE ECONOMÍA <br>\n",
        "PONTIFICIA UNIVERSIDAD CATÓLICA DE CHILE\n",
        "\n",
        "\n",
        "# **TAREA 1**\n",
        "\n",
        "\n",
        "---\n",
        "\n",
        "\n",
        "Profesor:\n",
        "- Joaquín Pérez Lapillo\n",
        "\n",
        "Ayudantes:\n",
        "\n",
        "- Luis García B.\n",
        "- Sebastián Hernández B.\n",
        "- Oscar Herrera G.\n"
      ],
      "metadata": {
        "id": "4Ra8eI01vFUk"
      }
    },
    {
      "cell_type": "markdown",
      "source": [
        "**Complete sus datos:**\n",
        "\n",
        "- Nombre y apellido:\n",
        "  - `# Valentina Flores Quintanilla`\n",
        "  - `# L. Ignacio Maluenda Pérez`\n",
        "- Usuario de GitHub (opcional):  `# @Nacho0611`\n"
      ],
      "metadata": {
        "id": "yqQBV0vWVQP6"
      }
    },
    {
      "cell_type": "markdown",
      "source": [
        "## Instrucciones\n",
        "\n",
        "- Descargue el notebook y cárguelo en su Drive.\n",
        "- Todas las preguntas deben ser contestadas en su notebook.\n",
        "- Para que una pregunta esté correcta el código debe correr.\n",
        "- Si es necesario, realice comentarios breves en su código explicando lo que está realizando o sus resultados.\n",
        "- Una vez culminada su tarea, suba su notebook al buzón de tareas de Canvas.\n",
        "- La fecha y hora límite de esta tarea es el _**viernes 4 de abril a las 18:00 hrs**_.\n",
        "\n"
      ],
      "metadata": {
        "id": "8qOWoCOwwBY-"
      }
    },
    {
      "cell_type": "markdown",
      "source": [
        "### Distribución de puntaje\n",
        "\n",
        "\n",
        "| Pregunta                        | Puntaje |\n",
        "|--------------------------------|---------|\n",
        "| Pregunta 1.0                   |    1    |\n",
        "| Pregunta 1.1                   |    3    |\n",
        "| Pregunta 1.2                   |    3    |\n",
        "| Pregunta 1.3                   |    2    |\n",
        "| Pregunta 1.4                   |    2    |\n",
        "| Pregunta 1.5                   |    5    |\n",
        "| Pregunta 1.6                   |    2    |\n",
        "| Pregunta 1.7                   |    5    |\n",
        "| Pregunta 1.8                   |   7    |\n",
        "| Pregunta 1.9                   |   5    |\n",
        "| Pregunta 1.10                  |   5    |\n",
        "| Pregunta 1.11                  |   6    |\n",
        "| Pregunta 1.12                  |    2    |\n",
        "| Pregunta 1.13                  |    5    |\n",
        "| Pregunta 1.14                  |   10    |\n",
        "| Pregunta 1.15                  |    5    |\n",
        "| Pregunta 1.16                  |    5    |\n",
        "| Pregunta 2.0                   |    2    |\n",
        "| Pregunta 2.1                   |    5    |\n",
        "| Pregunta 2.2                   |    5    |\n",
        "| Pregunta 2.3                   |    5    |\n",
        "| Pregunta 2.4                   |    3    |\n",
        "| Pregunta 2.5                   |    3    |\n",
        "| Pregunta 2.6                   |    2    |\n",
        "| Pregunta 2.7                   |    2    |\n",
        "\n",
        "Total: 100 pts.\n"
      ],
      "metadata": {
        "id": "XBzO2w8EVm5c"
      }
    },
    {
      "cell_type": "markdown",
      "source": [
        "### Sobre el Bonus\n",
        "\n",
        "- La entrega, por defecto, es a través de Canvas. Sin embargo, puede escoger voluntariamente entregar la tarea en su GitHub personal.\n",
        "\n",
        "- Si usted realiza la entrega en GitHub antes de la **fecha y hora indicada**, entonces tendrá una bonificación de 0.3 en su nota final de tarea. Es decir, si usted obtuvo una nota de 6.5, pero entregó en su GitHub, entonces su calificación en esta tarea será de 6.8.\n",
        "\n",
        "- Si **además** de realizar la entrega a través de GitHub, usted logra crear `branches` (ramas) y realizar un `merge` entre ramas, entonces se le bonificará con 0.5 en su nota de tarea. Es decir, si usted obtuvo una nota de 6.5, pero entregó en su GitHub e hizo el trabajo de ramas, entonces su calificación en esta tarea será de 7.0.\n",
        "\n",
        "  - Se valora capacidad autodidacta.\n",
        "  - Sólo serán considerados los archivos contenidos en su rama principal a la fecha y hora indicada.\n",
        "\n"
      ],
      "metadata": {
        "id": "Vk7iPtznVHVi"
      }
    },
    {
      "cell_type": "markdown",
      "source": [
        "## Exploratory data analysis (EDA)"
      ],
      "metadata": {
        "id": "jaq2e8c8vcYw"
      }
    },
    {
      "cell_type": "markdown",
      "source": [
        "Para esta tarea se utilizará como principal fuente de información un dataset con una serie de características económicas, demográficas y de desarrollo humano de distintos países a la fecha de 2007 (corte transversal). El dataset está disponible en el siguiente [Github](https://raw.githubusercontent.com/lfgarcia-1/EAE3709-1-2025/refs/heads/main/economic_dataset.csv).<br>\n",
        "\n",
        "Descripción del dataset:\n",
        "\n",
        "Variables:\n",
        "\n",
        "*   date: Fecha en la que se actualizó la data.\n",
        "*   Population, Area (sq. mi.) Pop. Density (per sq. mi.), Coastline (coast/area ratio), Net migration, Infant mortality (per 1000 births), GDP ($ per capita, Literacy (%), Phones (per 1000), Arable (%), Crops (%), Other (%), Climate, Birthrate, Deathrate, Agriculture, Industry, Service: Características del país.\n",
        "*   source: fuente de los datos.\n",
        "*   Region: Región (grupo de países).\n",
        "*   Country: País."
      ],
      "metadata": {
        "id": "cKQoWCh7voMY"
      }
    },
    {
      "cell_type": "markdown",
      "source": [
        "### Pregunta 1.0\n",
        "\n",
        "Importe las librerías que usará en su tarea."
      ],
      "metadata": {
        "id": "mOy5mXKWemrS"
      }
    },
    {
      "cell_type": "code",
      "source": [
        "import pandas as pd\n",
        "import numpy as np\n",
        "import matplotlib.pyplot as plt\n",
        "import seaborn as sns"
      ],
      "metadata": {
        "id": "2Mp3_soge35K"
      },
      "execution_count": 4,
      "outputs": []
    },
    {
      "cell_type": "markdown",
      "source": [
        "### Pregunta 1.1\n",
        "\n",
        "Importe el dataset como un DataFrame (df) directamente desde Github (es decir, no descargue el archivo manualmente). A lo largo de la tarea este df se denominará como `df`.\n"
      ],
      "metadata": {
        "id": "-6O0wui_GPKs"
      }
    },
    {
      "cell_type": "code",
      "source": [
        "url = \"https://raw.githubusercontent.com/lfgarcia-1/EAE3709-1-2025/refs/heads/main/economic_dataset.csv\"\n",
        "df = pd.read_csv(url)"
      ],
      "metadata": {
        "id": "5khrY9a1GO51"
      },
      "execution_count": 5,
      "outputs": []
    },
    {
      "cell_type": "markdown",
      "source": [
        "### Pregunta 1.2\n",
        "\n",
        "Utilice las funciones de Pandas `head()`, `tail()`, `info()` y la propiedad (o atributo) `.dtypes` para describir el `df`. Explique brevemente para qué sirve cada función."
      ],
      "metadata": {
        "id": "0ByEXODiGVIc"
      }
    },
    {
      "cell_type": "code",
      "source": [
        "print(df.head()) ### Muestra las primeras 5 filas de cada columna ###"
      ],
      "metadata": {
        "id": "Ml6rJ0rhUJtw",
        "colab": {
          "base_uri": "https://localhost:8080/"
        },
        "outputId": "8df2e2d9-687f-49ad-c49e-37cd9da0c8f0"
      },
      "execution_count": 6,
      "outputs": [
        {
          "output_type": "stream",
          "name": "stdout",
          "text": [
            "         date        source          Country  \\\n",
            "0  2007-01-01  US Goverment     Afghanistan    \n",
            "1  2007-01-01  US Goverment         Albania    \n",
            "2  2007-01-01  US Goverment         Algeria    \n",
            "3  2007-01-01  US Goverment  American Samoa    \n",
            "4  2007-01-01  US Goverment         Andorra    \n",
            "\n",
            "                                Region  Population  Area (sq. mi.)  \\\n",
            "0        ASIA (EX. NEAR EAST)             31056997          647500   \n",
            "1  EASTERN EUROPE                          3581655           28748   \n",
            "2  NORTHERN AFRICA                        32930091         2381740   \n",
            "3  OCEANIA                                   57794             199   \n",
            "4  WESTERN EUROPE                            71201             468   \n",
            "\n",
            "   Pop. Density (per sq. mi.)  Coastline (coast/area ratio)  Net migration  \\\n",
            "0                        48.0                          0.00          23.06   \n",
            "1                       124.6                          1.26          -4.93   \n",
            "2                        13.8                          0.04          -0.39   \n",
            "3                       290.4                         58.29         -20.71   \n",
            "4                       152.1                          0.00           6.60   \n",
            "\n",
            "   Infant mortality (per 1000 births)  ...  Phones (per 1000)  Arable (%)  \\\n",
            "0                              163.07  ...                3.2       12.13   \n",
            "1                               21.52  ...               71.2       21.09   \n",
            "2                               31.00  ...               78.1        3.22   \n",
            "3                                9.27  ...              259.5       10.00   \n",
            "4                                4.05  ...              497.2        2.22   \n",
            "\n",
            "   Crops (%)  Other (%)  Climate  Birthrate  Deathrate  Agriculture  Industry  \\\n",
            "0       0.22      87.65      1.0      46.60      20.34        0.380     0.240   \n",
            "1       4.42      74.49      3.0      15.11       5.22        0.232     0.188   \n",
            "2       0.25      96.53      1.0      17.14       4.61        0.101     0.600   \n",
            "3      15.00      75.00      2.0      22.46       3.27          NaN       NaN   \n",
            "4       0.00      97.78      3.0       8.71       6.25          NaN       NaN   \n",
            "\n",
            "   Service  \n",
            "0    0.380  \n",
            "1    0.579  \n",
            "2    0.298  \n",
            "3      NaN  \n",
            "4      NaN  \n",
            "\n",
            "[5 rows x 22 columns]\n"
          ]
        }
      ]
    },
    {
      "cell_type": "code",
      "source": [
        "print(df.tail()) ### Muestra las últimas 5 filas de cada columna ###"
      ],
      "metadata": {
        "id": "VsjP1iBYUrsn",
        "colab": {
          "base_uri": "https://localhost:8080/"
        },
        "outputId": "2032c5f3-f7cd-4f0d-c579-0e9ee75ef10c"
      },
      "execution_count": 7,
      "outputs": [
        {
          "output_type": "stream",
          "name": "stdout",
          "text": [
            "           date        source          Country  \\\n",
            "222  2007-01-01  US Goverment       West Bank    \n",
            "223  2007-01-01  US Goverment  Western Sahara    \n",
            "224  2007-01-01  US Goverment           Yemen    \n",
            "225  2007-01-01  US Goverment          Zambia    \n",
            "226  2007-01-01  US Goverment        Zimbabwe    \n",
            "\n",
            "                                  Region  Population  Area (sq. mi.)  \\\n",
            "222  NEAR EAST                               2460492            5860   \n",
            "223  NORTHERN AFRICA                          273008          266000   \n",
            "224  NEAR EAST                              21456188          527970   \n",
            "225  SUB-SAHARAN AFRICA                     11502010          752614   \n",
            "226  SUB-SAHARAN AFRICA                     12236805          390580   \n",
            "\n",
            "     Pop. Density (per sq. mi.)  Coastline (coast/area ratio)  Net migration  \\\n",
            "222                       419.9                          0.00           2.98   \n",
            "223                         1.0                          0.42            NaN   \n",
            "224                        40.6                          0.36           0.00   \n",
            "225                        15.3                          0.00           0.00   \n",
            "226                        31.3                          0.00           0.00   \n",
            "\n",
            "     Infant mortality (per 1000 births)  ...  Phones (per 1000)  Arable (%)  \\\n",
            "222                               19.62  ...              145.2       16.90   \n",
            "223                                 NaN  ...                NaN        0.02   \n",
            "224                               61.50  ...               37.2        2.78   \n",
            "225                               88.29  ...                8.2        7.08   \n",
            "226                               67.69  ...               26.8        8.32   \n",
            "\n",
            "     Crops (%)  Other (%)  Climate  Birthrate  Deathrate  Agriculture  \\\n",
            "222      18.97      64.13      3.0      31.67       3.92        0.090   \n",
            "223       0.00      99.98      1.0        NaN        NaN          NaN   \n",
            "224       0.24      96.98      1.0      42.89       8.30        0.135   \n",
            "225       0.03      92.90      2.0      41.00      19.93        0.220   \n",
            "226       0.34      91.34      2.0      28.01      21.84        0.179   \n",
            "\n",
            "     Industry  Service  \n",
            "222     0.280    0.630  \n",
            "223       NaN    0.400  \n",
            "224     0.472    0.393  \n",
            "225     0.290    0.489  \n",
            "226     0.243    0.579  \n",
            "\n",
            "[5 rows x 22 columns]\n"
          ]
        }
      ]
    },
    {
      "cell_type": "code",
      "source": [
        "df.info() ### El comando información de los datos, su tipo, la cantidad de entradas por columna y la cantidad de nulos.###"
      ],
      "metadata": {
        "id": "G1kBfuG9Uw_n",
        "colab": {
          "base_uri": "https://localhost:8080/"
        },
        "outputId": "fe7fd33b-5247-462a-fe22-23b19bed15a3"
      },
      "execution_count": 8,
      "outputs": [
        {
          "output_type": "stream",
          "name": "stdout",
          "text": [
            "<class 'pandas.core.frame.DataFrame'>\n",
            "RangeIndex: 227 entries, 0 to 226\n",
            "Data columns (total 22 columns):\n",
            " #   Column                              Non-Null Count  Dtype  \n",
            "---  ------                              --------------  -----  \n",
            " 0   date                                227 non-null    object \n",
            " 1   source                              227 non-null    object \n",
            " 2   Country                             227 non-null    object \n",
            " 3   Region                              227 non-null    object \n",
            " 4   Population                          227 non-null    int64  \n",
            " 5   Area (sq. mi.)                      227 non-null    int64  \n",
            " 6   Pop. Density (per sq. mi.)          227 non-null    float64\n",
            " 7   Coastline (coast/area ratio)        227 non-null    float64\n",
            " 8   Net migration                       224 non-null    float64\n",
            " 9   Infant mortality (per 1000 births)  224 non-null    float64\n",
            " 10  GDP ($ per capita)                  226 non-null    float64\n",
            " 11  Literacy (%)                        209 non-null    float64\n",
            " 12  Phones (per 1000)                   223 non-null    float64\n",
            " 13  Arable (%)                          225 non-null    float64\n",
            " 14  Crops (%)                           225 non-null    float64\n",
            " 15  Other (%)                           225 non-null    float64\n",
            " 16  Climate                             205 non-null    float64\n",
            " 17  Birthrate                           224 non-null    float64\n",
            " 18  Deathrate                           223 non-null    float64\n",
            " 19  Agriculture                         212 non-null    float64\n",
            " 20  Industry                            211 non-null    float64\n",
            " 21  Service                             212 non-null    float64\n",
            "dtypes: float64(16), int64(2), object(4)\n",
            "memory usage: 39.1+ KB\n"
          ]
        }
      ]
    },
    {
      "cell_type": "code",
      "source": [
        "print(df.dtypes)"
      ],
      "metadata": {
        "id": "5WXo9qTKT7nj",
        "colab": {
          "base_uri": "https://localhost:8080/"
        },
        "outputId": "565df51f-e4c4-45c3-e1a4-b6a84dc0689b"
      },
      "execution_count": null,
      "outputs": [
        {
          "output_type": "stream",
          "name": "stdout",
          "text": [
            "date                                   object\n",
            "source                                 object\n",
            "Country                                object\n",
            "Region                                 object\n",
            "Population                              int64\n",
            "Area (sq. mi.)                          int64\n",
            "Pop. Density (per sq. mi.)            float64\n",
            "Coastline (coast/area ratio)          float64\n",
            "Net migration                         float64\n",
            "Infant mortality (per 1000 births)    float64\n",
            "GDP ($ per capita)                    float64\n",
            "Literacy (%)                          float64\n",
            "Phones (per 1000)                     float64\n",
            "Arable (%)                            float64\n",
            "Crops (%)                             float64\n",
            "Other (%)                             float64\n",
            "Climate                               float64\n",
            "Birthrate                             float64\n",
            "Deathrate                             float64\n",
            "Agriculture                           float64\n",
            "Industry                              float64\n",
            "Service                               float64\n",
            "dtype: object\n"
          ]
        }
      ]
    },
    {
      "cell_type": "markdown",
      "source": [
        "### Pregunta 1.3\n",
        "\n",
        "La variable `source` es innecesaria debido que contiene el mismo valor para todas las observaciones. Elimine esta variable de su `df`."
      ],
      "metadata": {
        "id": "Kq_LZm-zOkBc"
      }
    },
    {
      "cell_type": "code",
      "source": [
        "df.drop('source', axis=1)\n",
        "print(df.head()) ### Utilizamos este comando para confirmar que se borró la variable ###"
      ],
      "metadata": {
        "id": "lEb-N3nkOobU",
        "colab": {
          "base_uri": "https://localhost:8080/"
        },
        "outputId": "c74e2173-1962-4ad1-84ba-311477f1c309"
      },
      "execution_count": 10,
      "outputs": [
        {
          "output_type": "stream",
          "name": "stdout",
          "text": [
            "         date        source          Country  \\\n",
            "0  2007-01-01  US Goverment     Afghanistan    \n",
            "1  2007-01-01  US Goverment         Albania    \n",
            "2  2007-01-01  US Goverment         Algeria    \n",
            "3  2007-01-01  US Goverment  American Samoa    \n",
            "4  2007-01-01  US Goverment         Andorra    \n",
            "\n",
            "                                Region  Population  Area (sq. mi.)  \\\n",
            "0        ASIA (EX. NEAR EAST)             31056997          647500   \n",
            "1  EASTERN EUROPE                          3581655           28748   \n",
            "2  NORTHERN AFRICA                        32930091         2381740   \n",
            "3  OCEANIA                                   57794             199   \n",
            "4  WESTERN EUROPE                            71201             468   \n",
            "\n",
            "   Pop. Density (per sq. mi.)  Coastline (coast/area ratio)  Net migration  \\\n",
            "0                        48.0                          0.00          23.06   \n",
            "1                       124.6                          1.26          -4.93   \n",
            "2                        13.8                          0.04          -0.39   \n",
            "3                       290.4                         58.29         -20.71   \n",
            "4                       152.1                          0.00           6.60   \n",
            "\n",
            "   Infant mortality (per 1000 births)  ...  Phones (per 1000)  Arable (%)  \\\n",
            "0                              163.07  ...                3.2       12.13   \n",
            "1                               21.52  ...               71.2       21.09   \n",
            "2                               31.00  ...               78.1        3.22   \n",
            "3                                9.27  ...              259.5       10.00   \n",
            "4                                4.05  ...              497.2        2.22   \n",
            "\n",
            "   Crops (%)  Other (%)  Climate  Birthrate  Deathrate  Agriculture  Industry  \\\n",
            "0       0.22      87.65      1.0      46.60      20.34        0.380     0.240   \n",
            "1       4.42      74.49      3.0      15.11       5.22        0.232     0.188   \n",
            "2       0.25      96.53      1.0      17.14       4.61        0.101     0.600   \n",
            "3      15.00      75.00      2.0      22.46       3.27          NaN       NaN   \n",
            "4       0.00      97.78      3.0       8.71       6.25          NaN       NaN   \n",
            "\n",
            "   Service  \n",
            "0    0.380  \n",
            "1    0.579  \n",
            "2    0.298  \n",
            "3      NaN  \n",
            "4      NaN  \n",
            "\n",
            "[5 rows x 22 columns]\n"
          ]
        }
      ]
    },
    {
      "cell_type": "markdown",
      "source": [
        "### Pregunta 1.4\n",
        "\n",
        "Transforme el tipo de la variable `date` a `datetime` _datatype_."
      ],
      "metadata": {
        "id": "tThRIJnuYd4c"
      }
    },
    {
      "cell_type": "code",
      "source": [
        "df.date = pd.to_datetime(df.date)\n",
        "print(df.dtypes) ### Comprobar que se cambió el tipo de la variable date ###"
      ],
      "metadata": {
        "id": "uoXnhZDfYdVt",
        "colab": {
          "base_uri": "https://localhost:8080/"
        },
        "outputId": "4e96edff-d786-4d50-e820-951f22737c19"
      },
      "execution_count": 12,
      "outputs": [
        {
          "output_type": "stream",
          "name": "stdout",
          "text": [
            "date                                  datetime64[ns]\n",
            "source                                        object\n",
            "Country                                       object\n",
            "Region                                        object\n",
            "Population                                     int64\n",
            "Area (sq. mi.)                                 int64\n",
            "Pop. Density (per sq. mi.)                   float64\n",
            "Coastline (coast/area ratio)                 float64\n",
            "Net migration                                float64\n",
            "Infant mortality (per 1000 births)           float64\n",
            "GDP ($ per capita)                           float64\n",
            "Literacy (%)                                 float64\n",
            "Phones (per 1000)                            float64\n",
            "Arable (%)                                   float64\n",
            "Crops (%)                                    float64\n",
            "Other (%)                                    float64\n",
            "Climate                                      float64\n",
            "Birthrate                                    float64\n",
            "Deathrate                                    float64\n",
            "Agriculture                                  float64\n",
            "Industry                                     float64\n",
            "Service                                      float64\n",
            "dtype: object\n"
          ]
        }
      ]
    },
    {
      "cell_type": "markdown",
      "source": [
        "### Pregunta 1.5\n",
        "\n",
        "Para determinar si las variables son \"útiles\" y sus valores son \"correctos\" es necesario comprender cada uno de los atributos del dataset.\n",
        "Investigue y explique brevemente la relación **teórica** entre el `GDP (% per capita)` y cada una de las variables denominadas como \"Características del país\" en la introducción.\n",
        "\n",
        "Ejemplo: Existe una variable denominada `Coastline (coast/area ratio)`. Coastline es una medida de la cantidad de costa (acceso a mar) del país normalizada al área total del país para no beneficiar a países más grandes pero con la misma proporción de costa. A mayor \"Costline\" aumenta la capacidad portuaria per capita del país, más puertos facilita el comercio y podría aumentar el GDP per cápita."
      ],
      "metadata": {
        "id": "KgRsTOJcWig8"
      }
    },
    {
      "cell_type": "markdown",
      "source": [
        "\n",
        "\n",
        "\n",
        "---\n",
        "\n",
        "\n",
        "*Escriba* su respuesta en esta celda...\n",
        "\n",
        "\n",
        "---\n",
        "\n"
      ],
      "metadata": {
        "id": "ioYH5uWuXT68"
      }
    },
    {
      "cell_type": "markdown",
      "source": [
        "### Pregunta 1.6\n",
        "\n",
        "Calcule estadísticas descriptivas para cada variable numérica."
      ],
      "metadata": {
        "id": "8B-vbfFpGTu_"
      }
    },
    {
      "cell_type": "code",
      "source": [
        "numerica = ['Population','Area (sq. mi.)','Pop. Density (per sq. mi.)','Coastline (coast/area ratio)','Net migration','Infant mortality (per 1000 births)','GDP ($ per capita)','Literacy (%)','Phones (per 1000)','Arable (%)','Crops (%)','Other (%)','Climate','Birthrate','Deathrate','Agriculture','Industry','Service']\n",
        "df[numerica].describe()"
      ],
      "metadata": {
        "id": "kFLecrBPGTgN",
        "colab": {
          "base_uri": "https://localhost:8080/",
          "height": 372
        },
        "outputId": "1db4207a-e968-46f6-b5ea-7ea730548222"
      },
      "execution_count": 13,
      "outputs": [
        {
          "output_type": "execute_result",
          "data": {
            "text/plain": [
              "         Population  Area (sq. mi.)  Pop. Density (per sq. mi.)  \\\n",
              "count  2.270000e+02    2.270000e+02                  227.000000   \n",
              "mean   2.874028e+07    5.982270e+05                  379.047137   \n",
              "std    1.178913e+08    1.790282e+06                 1660.185825   \n",
              "min    7.026000e+03    2.000000e+00                    0.000000   \n",
              "25%    4.376240e+05    4.647500e+03                   29.150000   \n",
              "50%    4.786994e+06    8.660000e+04                   78.800000   \n",
              "75%    1.749777e+07    4.418110e+05                  190.150000   \n",
              "max    1.313974e+09    1.707520e+07                16271.500000   \n",
              "\n",
              "       Coastline (coast/area ratio)  Net migration  \\\n",
              "count                    227.000000     224.000000   \n",
              "mean                      21.165330       0.038125   \n",
              "std                       72.286863       4.889269   \n",
              "min                        0.000000     -20.990000   \n",
              "25%                        0.100000      -0.927500   \n",
              "50%                        0.730000       0.000000   \n",
              "75%                       10.345000       0.997500   \n",
              "max                      870.660000      23.060000   \n",
              "\n",
              "       Infant mortality (per 1000 births)  GDP ($ per capita)  Literacy (%)  \\\n",
              "count                          224.000000          226.000000    209.000000   \n",
              "mean                            35.506964         9689.823009     82.838278   \n",
              "std                             35.389899        10049.138513     19.722173   \n",
              "min                              2.290000          500.000000     17.600000   \n",
              "25%                              8.150000         1900.000000     70.600000   \n",
              "50%                             21.000000         5550.000000     92.500000   \n",
              "75%                             55.705000        15700.000000     98.000000   \n",
              "max                            191.190000        55100.000000    100.000000   \n",
              "\n",
              "       Phones (per 1000)  Arable (%)   Crops (%)   Other (%)     Climate  \\\n",
              "count         223.000000  225.000000  225.000000  225.000000  205.000000   \n",
              "mean          236.061435   13.797111    4.564222   81.638311    2.139024   \n",
              "std           227.991829   13.040402    8.361470   16.140835    0.699397   \n",
              "min             0.200000    0.000000    0.000000   33.330000    1.000000   \n",
              "25%            37.800000    3.220000    0.190000   71.650000    2.000000   \n",
              "50%           176.200000   10.420000    1.030000   85.700000    2.000000   \n",
              "75%           389.650000   20.000000    4.440000   95.440000    3.000000   \n",
              "max          1035.600000   62.110000   50.680000  100.000000    4.000000   \n",
              "\n",
              "        Birthrate   Deathrate  Agriculture    Industry     Service  \n",
              "count  224.000000  223.000000   212.000000  211.000000  212.000000  \n",
              "mean    22.114732    9.241345     0.150844    0.282711    0.565283  \n",
              "std     11.176716    4.990026     0.146798    0.138272    0.165841  \n",
              "min      7.290000    2.290000     0.000000    0.020000    0.062000  \n",
              "25%     12.672500    5.910000     0.037750    0.193000    0.429250  \n",
              "50%     18.790000    7.840000     0.099000    0.272000    0.571000  \n",
              "75%     29.820000   10.605000     0.221000    0.341000    0.678500  \n",
              "max     50.730000   29.740000     0.769000    0.906000    0.954000  "
            ],
            "text/html": [
              "\n",
              "  <div id=\"df-551248fd-0882-4abf-b41a-1df6067e065e\" class=\"colab-df-container\">\n",
              "    <div>\n",
              "<style scoped>\n",
              "    .dataframe tbody tr th:only-of-type {\n",
              "        vertical-align: middle;\n",
              "    }\n",
              "\n",
              "    .dataframe tbody tr th {\n",
              "        vertical-align: top;\n",
              "    }\n",
              "\n",
              "    .dataframe thead th {\n",
              "        text-align: right;\n",
              "    }\n",
              "</style>\n",
              "<table border=\"1\" class=\"dataframe\">\n",
              "  <thead>\n",
              "    <tr style=\"text-align: right;\">\n",
              "      <th></th>\n",
              "      <th>Population</th>\n",
              "      <th>Area (sq. mi.)</th>\n",
              "      <th>Pop. Density (per sq. mi.)</th>\n",
              "      <th>Coastline (coast/area ratio)</th>\n",
              "      <th>Net migration</th>\n",
              "      <th>Infant mortality (per 1000 births)</th>\n",
              "      <th>GDP ($ per capita)</th>\n",
              "      <th>Literacy (%)</th>\n",
              "      <th>Phones (per 1000)</th>\n",
              "      <th>Arable (%)</th>\n",
              "      <th>Crops (%)</th>\n",
              "      <th>Other (%)</th>\n",
              "      <th>Climate</th>\n",
              "      <th>Birthrate</th>\n",
              "      <th>Deathrate</th>\n",
              "      <th>Agriculture</th>\n",
              "      <th>Industry</th>\n",
              "      <th>Service</th>\n",
              "    </tr>\n",
              "  </thead>\n",
              "  <tbody>\n",
              "    <tr>\n",
              "      <th>count</th>\n",
              "      <td>2.270000e+02</td>\n",
              "      <td>2.270000e+02</td>\n",
              "      <td>227.000000</td>\n",
              "      <td>227.000000</td>\n",
              "      <td>224.000000</td>\n",
              "      <td>224.000000</td>\n",
              "      <td>226.000000</td>\n",
              "      <td>209.000000</td>\n",
              "      <td>223.000000</td>\n",
              "      <td>225.000000</td>\n",
              "      <td>225.000000</td>\n",
              "      <td>225.000000</td>\n",
              "      <td>205.000000</td>\n",
              "      <td>224.000000</td>\n",
              "      <td>223.000000</td>\n",
              "      <td>212.000000</td>\n",
              "      <td>211.000000</td>\n",
              "      <td>212.000000</td>\n",
              "    </tr>\n",
              "    <tr>\n",
              "      <th>mean</th>\n",
              "      <td>2.874028e+07</td>\n",
              "      <td>5.982270e+05</td>\n",
              "      <td>379.047137</td>\n",
              "      <td>21.165330</td>\n",
              "      <td>0.038125</td>\n",
              "      <td>35.506964</td>\n",
              "      <td>9689.823009</td>\n",
              "      <td>82.838278</td>\n",
              "      <td>236.061435</td>\n",
              "      <td>13.797111</td>\n",
              "      <td>4.564222</td>\n",
              "      <td>81.638311</td>\n",
              "      <td>2.139024</td>\n",
              "      <td>22.114732</td>\n",
              "      <td>9.241345</td>\n",
              "      <td>0.150844</td>\n",
              "      <td>0.282711</td>\n",
              "      <td>0.565283</td>\n",
              "    </tr>\n",
              "    <tr>\n",
              "      <th>std</th>\n",
              "      <td>1.178913e+08</td>\n",
              "      <td>1.790282e+06</td>\n",
              "      <td>1660.185825</td>\n",
              "      <td>72.286863</td>\n",
              "      <td>4.889269</td>\n",
              "      <td>35.389899</td>\n",
              "      <td>10049.138513</td>\n",
              "      <td>19.722173</td>\n",
              "      <td>227.991829</td>\n",
              "      <td>13.040402</td>\n",
              "      <td>8.361470</td>\n",
              "      <td>16.140835</td>\n",
              "      <td>0.699397</td>\n",
              "      <td>11.176716</td>\n",
              "      <td>4.990026</td>\n",
              "      <td>0.146798</td>\n",
              "      <td>0.138272</td>\n",
              "      <td>0.165841</td>\n",
              "    </tr>\n",
              "    <tr>\n",
              "      <th>min</th>\n",
              "      <td>7.026000e+03</td>\n",
              "      <td>2.000000e+00</td>\n",
              "      <td>0.000000</td>\n",
              "      <td>0.000000</td>\n",
              "      <td>-20.990000</td>\n",
              "      <td>2.290000</td>\n",
              "      <td>500.000000</td>\n",
              "      <td>17.600000</td>\n",
              "      <td>0.200000</td>\n",
              "      <td>0.000000</td>\n",
              "      <td>0.000000</td>\n",
              "      <td>33.330000</td>\n",
              "      <td>1.000000</td>\n",
              "      <td>7.290000</td>\n",
              "      <td>2.290000</td>\n",
              "      <td>0.000000</td>\n",
              "      <td>0.020000</td>\n",
              "      <td>0.062000</td>\n",
              "    </tr>\n",
              "    <tr>\n",
              "      <th>25%</th>\n",
              "      <td>4.376240e+05</td>\n",
              "      <td>4.647500e+03</td>\n",
              "      <td>29.150000</td>\n",
              "      <td>0.100000</td>\n",
              "      <td>-0.927500</td>\n",
              "      <td>8.150000</td>\n",
              "      <td>1900.000000</td>\n",
              "      <td>70.600000</td>\n",
              "      <td>37.800000</td>\n",
              "      <td>3.220000</td>\n",
              "      <td>0.190000</td>\n",
              "      <td>71.650000</td>\n",
              "      <td>2.000000</td>\n",
              "      <td>12.672500</td>\n",
              "      <td>5.910000</td>\n",
              "      <td>0.037750</td>\n",
              "      <td>0.193000</td>\n",
              "      <td>0.429250</td>\n",
              "    </tr>\n",
              "    <tr>\n",
              "      <th>50%</th>\n",
              "      <td>4.786994e+06</td>\n",
              "      <td>8.660000e+04</td>\n",
              "      <td>78.800000</td>\n",
              "      <td>0.730000</td>\n",
              "      <td>0.000000</td>\n",
              "      <td>21.000000</td>\n",
              "      <td>5550.000000</td>\n",
              "      <td>92.500000</td>\n",
              "      <td>176.200000</td>\n",
              "      <td>10.420000</td>\n",
              "      <td>1.030000</td>\n",
              "      <td>85.700000</td>\n",
              "      <td>2.000000</td>\n",
              "      <td>18.790000</td>\n",
              "      <td>7.840000</td>\n",
              "      <td>0.099000</td>\n",
              "      <td>0.272000</td>\n",
              "      <td>0.571000</td>\n",
              "    </tr>\n",
              "    <tr>\n",
              "      <th>75%</th>\n",
              "      <td>1.749777e+07</td>\n",
              "      <td>4.418110e+05</td>\n",
              "      <td>190.150000</td>\n",
              "      <td>10.345000</td>\n",
              "      <td>0.997500</td>\n",
              "      <td>55.705000</td>\n",
              "      <td>15700.000000</td>\n",
              "      <td>98.000000</td>\n",
              "      <td>389.650000</td>\n",
              "      <td>20.000000</td>\n",
              "      <td>4.440000</td>\n",
              "      <td>95.440000</td>\n",
              "      <td>3.000000</td>\n",
              "      <td>29.820000</td>\n",
              "      <td>10.605000</td>\n",
              "      <td>0.221000</td>\n",
              "      <td>0.341000</td>\n",
              "      <td>0.678500</td>\n",
              "    </tr>\n",
              "    <tr>\n",
              "      <th>max</th>\n",
              "      <td>1.313974e+09</td>\n",
              "      <td>1.707520e+07</td>\n",
              "      <td>16271.500000</td>\n",
              "      <td>870.660000</td>\n",
              "      <td>23.060000</td>\n",
              "      <td>191.190000</td>\n",
              "      <td>55100.000000</td>\n",
              "      <td>100.000000</td>\n",
              "      <td>1035.600000</td>\n",
              "      <td>62.110000</td>\n",
              "      <td>50.680000</td>\n",
              "      <td>100.000000</td>\n",
              "      <td>4.000000</td>\n",
              "      <td>50.730000</td>\n",
              "      <td>29.740000</td>\n",
              "      <td>0.769000</td>\n",
              "      <td>0.906000</td>\n",
              "      <td>0.954000</td>\n",
              "    </tr>\n",
              "  </tbody>\n",
              "</table>\n",
              "</div>\n",
              "    <div class=\"colab-df-buttons\">\n",
              "\n",
              "  <div class=\"colab-df-container\">\n",
              "    <button class=\"colab-df-convert\" onclick=\"convertToInteractive('df-551248fd-0882-4abf-b41a-1df6067e065e')\"\n",
              "            title=\"Convert this dataframe to an interactive table.\"\n",
              "            style=\"display:none;\">\n",
              "\n",
              "  <svg xmlns=\"http://www.w3.org/2000/svg\" height=\"24px\" viewBox=\"0 -960 960 960\">\n",
              "    <path d=\"M120-120v-720h720v720H120Zm60-500h600v-160H180v160Zm220 220h160v-160H400v160Zm0 220h160v-160H400v160ZM180-400h160v-160H180v160Zm440 0h160v-160H620v160ZM180-180h160v-160H180v160Zm440 0h160v-160H620v160Z\"/>\n",
              "  </svg>\n",
              "    </button>\n",
              "\n",
              "  <style>\n",
              "    .colab-df-container {\n",
              "      display:flex;\n",
              "      gap: 12px;\n",
              "    }\n",
              "\n",
              "    .colab-df-convert {\n",
              "      background-color: #E8F0FE;\n",
              "      border: none;\n",
              "      border-radius: 50%;\n",
              "      cursor: pointer;\n",
              "      display: none;\n",
              "      fill: #1967D2;\n",
              "      height: 32px;\n",
              "      padding: 0 0 0 0;\n",
              "      width: 32px;\n",
              "    }\n",
              "\n",
              "    .colab-df-convert:hover {\n",
              "      background-color: #E2EBFA;\n",
              "      box-shadow: 0px 1px 2px rgba(60, 64, 67, 0.3), 0px 1px 3px 1px rgba(60, 64, 67, 0.15);\n",
              "      fill: #174EA6;\n",
              "    }\n",
              "\n",
              "    .colab-df-buttons div {\n",
              "      margin-bottom: 4px;\n",
              "    }\n",
              "\n",
              "    [theme=dark] .colab-df-convert {\n",
              "      background-color: #3B4455;\n",
              "      fill: #D2E3FC;\n",
              "    }\n",
              "\n",
              "    [theme=dark] .colab-df-convert:hover {\n",
              "      background-color: #434B5C;\n",
              "      box-shadow: 0px 1px 3px 1px rgba(0, 0, 0, 0.15);\n",
              "      filter: drop-shadow(0px 1px 2px rgba(0, 0, 0, 0.3));\n",
              "      fill: #FFFFFF;\n",
              "    }\n",
              "  </style>\n",
              "\n",
              "    <script>\n",
              "      const buttonEl =\n",
              "        document.querySelector('#df-551248fd-0882-4abf-b41a-1df6067e065e button.colab-df-convert');\n",
              "      buttonEl.style.display =\n",
              "        google.colab.kernel.accessAllowed ? 'block' : 'none';\n",
              "\n",
              "      async function convertToInteractive(key) {\n",
              "        const element = document.querySelector('#df-551248fd-0882-4abf-b41a-1df6067e065e');\n",
              "        const dataTable =\n",
              "          await google.colab.kernel.invokeFunction('convertToInteractive',\n",
              "                                                    [key], {});\n",
              "        if (!dataTable) return;\n",
              "\n",
              "        const docLinkHtml = 'Like what you see? Visit the ' +\n",
              "          '<a target=\"_blank\" href=https://colab.research.google.com/notebooks/data_table.ipynb>data table notebook</a>'\n",
              "          + ' to learn more about interactive tables.';\n",
              "        element.innerHTML = '';\n",
              "        dataTable['output_type'] = 'display_data';\n",
              "        await google.colab.output.renderOutput(dataTable, element);\n",
              "        const docLink = document.createElement('div');\n",
              "        docLink.innerHTML = docLinkHtml;\n",
              "        element.appendChild(docLink);\n",
              "      }\n",
              "    </script>\n",
              "  </div>\n",
              "\n",
              "\n",
              "<div id=\"df-079fabd4-5c60-4b65-b341-7f62ff7b6d61\">\n",
              "  <button class=\"colab-df-quickchart\" onclick=\"quickchart('df-079fabd4-5c60-4b65-b341-7f62ff7b6d61')\"\n",
              "            title=\"Suggest charts\"\n",
              "            style=\"display:none;\">\n",
              "\n",
              "<svg xmlns=\"http://www.w3.org/2000/svg\" height=\"24px\"viewBox=\"0 0 24 24\"\n",
              "     width=\"24px\">\n",
              "    <g>\n",
              "        <path d=\"M19 3H5c-1.1 0-2 .9-2 2v14c0 1.1.9 2 2 2h14c1.1 0 2-.9 2-2V5c0-1.1-.9-2-2-2zM9 17H7v-7h2v7zm4 0h-2V7h2v10zm4 0h-2v-4h2v4z\"/>\n",
              "    </g>\n",
              "</svg>\n",
              "  </button>\n",
              "\n",
              "<style>\n",
              "  .colab-df-quickchart {\n",
              "      --bg-color: #E8F0FE;\n",
              "      --fill-color: #1967D2;\n",
              "      --hover-bg-color: #E2EBFA;\n",
              "      --hover-fill-color: #174EA6;\n",
              "      --disabled-fill-color: #AAA;\n",
              "      --disabled-bg-color: #DDD;\n",
              "  }\n",
              "\n",
              "  [theme=dark] .colab-df-quickchart {\n",
              "      --bg-color: #3B4455;\n",
              "      --fill-color: #D2E3FC;\n",
              "      --hover-bg-color: #434B5C;\n",
              "      --hover-fill-color: #FFFFFF;\n",
              "      --disabled-bg-color: #3B4455;\n",
              "      --disabled-fill-color: #666;\n",
              "  }\n",
              "\n",
              "  .colab-df-quickchart {\n",
              "    background-color: var(--bg-color);\n",
              "    border: none;\n",
              "    border-radius: 50%;\n",
              "    cursor: pointer;\n",
              "    display: none;\n",
              "    fill: var(--fill-color);\n",
              "    height: 32px;\n",
              "    padding: 0;\n",
              "    width: 32px;\n",
              "  }\n",
              "\n",
              "  .colab-df-quickchart:hover {\n",
              "    background-color: var(--hover-bg-color);\n",
              "    box-shadow: 0 1px 2px rgba(60, 64, 67, 0.3), 0 1px 3px 1px rgba(60, 64, 67, 0.15);\n",
              "    fill: var(--button-hover-fill-color);\n",
              "  }\n",
              "\n",
              "  .colab-df-quickchart-complete:disabled,\n",
              "  .colab-df-quickchart-complete:disabled:hover {\n",
              "    background-color: var(--disabled-bg-color);\n",
              "    fill: var(--disabled-fill-color);\n",
              "    box-shadow: none;\n",
              "  }\n",
              "\n",
              "  .colab-df-spinner {\n",
              "    border: 2px solid var(--fill-color);\n",
              "    border-color: transparent;\n",
              "    border-bottom-color: var(--fill-color);\n",
              "    animation:\n",
              "      spin 1s steps(1) infinite;\n",
              "  }\n",
              "\n",
              "  @keyframes spin {\n",
              "    0% {\n",
              "      border-color: transparent;\n",
              "      border-bottom-color: var(--fill-color);\n",
              "      border-left-color: var(--fill-color);\n",
              "    }\n",
              "    20% {\n",
              "      border-color: transparent;\n",
              "      border-left-color: var(--fill-color);\n",
              "      border-top-color: var(--fill-color);\n",
              "    }\n",
              "    30% {\n",
              "      border-color: transparent;\n",
              "      border-left-color: var(--fill-color);\n",
              "      border-top-color: var(--fill-color);\n",
              "      border-right-color: var(--fill-color);\n",
              "    }\n",
              "    40% {\n",
              "      border-color: transparent;\n",
              "      border-right-color: var(--fill-color);\n",
              "      border-top-color: var(--fill-color);\n",
              "    }\n",
              "    60% {\n",
              "      border-color: transparent;\n",
              "      border-right-color: var(--fill-color);\n",
              "    }\n",
              "    80% {\n",
              "      border-color: transparent;\n",
              "      border-right-color: var(--fill-color);\n",
              "      border-bottom-color: var(--fill-color);\n",
              "    }\n",
              "    90% {\n",
              "      border-color: transparent;\n",
              "      border-bottom-color: var(--fill-color);\n",
              "    }\n",
              "  }\n",
              "</style>\n",
              "\n",
              "  <script>\n",
              "    async function quickchart(key) {\n",
              "      const quickchartButtonEl =\n",
              "        document.querySelector('#' + key + ' button');\n",
              "      quickchartButtonEl.disabled = true;  // To prevent multiple clicks.\n",
              "      quickchartButtonEl.classList.add('colab-df-spinner');\n",
              "      try {\n",
              "        const charts = await google.colab.kernel.invokeFunction(\n",
              "            'suggestCharts', [key], {});\n",
              "      } catch (error) {\n",
              "        console.error('Error during call to suggestCharts:', error);\n",
              "      }\n",
              "      quickchartButtonEl.classList.remove('colab-df-spinner');\n",
              "      quickchartButtonEl.classList.add('colab-df-quickchart-complete');\n",
              "    }\n",
              "    (() => {\n",
              "      let quickchartButtonEl =\n",
              "        document.querySelector('#df-079fabd4-5c60-4b65-b341-7f62ff7b6d61 button');\n",
              "      quickchartButtonEl.style.display =\n",
              "        google.colab.kernel.accessAllowed ? 'block' : 'none';\n",
              "    })();\n",
              "  </script>\n",
              "</div>\n",
              "\n",
              "    </div>\n",
              "  </div>\n"
            ],
            "application/vnd.google.colaboratory.intrinsic+json": {
              "type": "dataframe",
              "summary": "{\n  \"name\": \"df[numerica]\",\n  \"rows\": 8,\n  \"fields\": [\n    {\n      \"column\": \"Population\",\n      \"properties\": {\n        \"dtype\": \"number\",\n        \"std\": 457718759.252335,\n        \"min\": 227.0,\n        \"max\": 1313973713.0,\n        \"num_unique_values\": 8,\n        \"samples\": [\n          28740284.365638766,\n          4786994.0,\n          227.0\n        ],\n        \"semantic_type\": \"\",\n        \"description\": \"\"\n      }\n    },\n    {\n      \"column\": \"Area (sq. mi.)\",\n      \"properties\": {\n        \"dtype\": \"number\",\n        \"std\": 5920221.696955028,\n        \"min\": 2.0,\n        \"max\": 17075200.0,\n        \"num_unique_values\": 8,\n        \"samples\": [\n          598226.9559471365,\n          86600.0,\n          227.0\n        ],\n        \"semantic_type\": \"\",\n        \"description\": \"\"\n      }\n    },\n    {\n      \"column\": \"Pop. Density (per sq. mi.)\",\n      \"properties\": {\n        \"dtype\": \"number\",\n        \"std\": 5649.371339504665,\n        \"min\": 0.0,\n        \"max\": 16271.5,\n        \"num_unique_values\": 8,\n        \"samples\": [\n          379.0471365638766,\n          78.8,\n          227.0\n        ],\n        \"semantic_type\": \"\",\n        \"description\": \"\"\n      }\n    },\n    {\n      \"column\": \"Coastline (coast/area ratio)\",\n      \"properties\": {\n        \"dtype\": \"number\",\n        \"std\": 301.1103137553416,\n        \"min\": 0.0,\n        \"max\": 870.66,\n        \"num_unique_values\": 8,\n        \"samples\": [\n          21.16533039647577,\n          0.73,\n          227.0\n        ],\n        \"semantic_type\": \"\",\n        \"description\": \"\"\n      }\n    },\n    {\n      \"column\": \"Net migration\",\n      \"properties\": {\n        \"dtype\": \"number\",\n        \"std\": 79.73177157193311,\n        \"min\": -20.99,\n        \"max\": 224.0,\n        \"num_unique_values\": 8,\n        \"samples\": [\n          0.038124999999999985,\n          0.0,\n          224.0\n        ],\n        \"semantic_type\": \"\",\n        \"description\": \"\"\n      }\n    },\n    {\n      \"column\": \"Infant mortality (per 1000 births)\",\n      \"properties\": {\n        \"dtype\": \"number\",\n        \"std\": 86.01010992880487,\n        \"min\": 2.29,\n        \"max\": 224.0,\n        \"num_unique_values\": 8,\n        \"samples\": [\n          35.50696428571428,\n          21.0,\n          224.0\n        ],\n        \"semantic_type\": \"\",\n        \"description\": \"\"\n      }\n    },\n    {\n      \"column\": \"GDP ($ per capita)\",\n      \"properties\": {\n        \"dtype\": \"number\",\n        \"std\": 18102.92390457116,\n        \"min\": 226.0,\n        \"max\": 55100.0,\n        \"num_unique_values\": 8,\n        \"samples\": [\n          9689.823008849558,\n          5550.0,\n          226.0\n        ],\n        \"semantic_type\": \"\",\n        \"description\": \"\"\n      }\n    },\n    {\n      \"column\": \"Literacy (%)\",\n      \"properties\": {\n        \"dtype\": \"number\",\n        \"std\": 59.55678940177899,\n        \"min\": 17.6,\n        \"max\": 209.0,\n        \"num_unique_values\": 8,\n        \"samples\": [\n          82.83827751196175,\n          92.5,\n          209.0\n        ],\n        \"semantic_type\": \"\",\n        \"description\": \"\"\n      }\n    },\n    {\n      \"column\": \"Phones (per 1000)\",\n      \"properties\": {\n        \"dtype\": \"number\",\n        \"std\": 324.6155744132606,\n        \"min\": 0.2,\n        \"max\": 1035.6,\n        \"num_unique_values\": 8,\n        \"samples\": [\n          236.06143497757847,\n          176.2,\n          223.0\n        ],\n        \"semantic_type\": \"\",\n        \"description\": \"\"\n      }\n    },\n    {\n      \"column\": \"Arable (%)\",\n      \"properties\": {\n        \"dtype\": \"number\",\n        \"std\": 75.83805522563503,\n        \"min\": 0.0,\n        \"max\": 225.0,\n        \"num_unique_values\": 8,\n        \"samples\": [\n          13.79711111111111,\n          10.42,\n          225.0\n        ],\n        \"semantic_type\": \"\",\n        \"description\": \"\"\n      }\n    },\n    {\n      \"column\": \"Crops (%)\",\n      \"properties\": {\n        \"dtype\": \"number\",\n        \"std\": 77.90193663207538,\n        \"min\": 0.0,\n        \"max\": 225.0,\n        \"num_unique_values\": 8,\n        \"samples\": [\n          4.564222222222223,\n          1.03,\n          225.0\n        ],\n        \"semantic_type\": \"\",\n        \"description\": \"\"\n      }\n    },\n    {\n      \"column\": \"Other (%)\",\n      \"properties\": {\n        \"dtype\": \"number\",\n        \"std\": 62.59961833406629,\n        \"min\": 16.140834771935456,\n        \"max\": 225.0,\n        \"num_unique_values\": 8,\n        \"samples\": [\n          81.63831111111112,\n          85.7,\n          225.0\n        ],\n        \"semantic_type\": \"\",\n        \"description\": \"\"\n      }\n    },\n    {\n      \"column\": \"Climate\",\n      \"properties\": {\n        \"dtype\": \"number\",\n        \"std\": 71.73656982464209,\n        \"min\": 0.6993968160243126,\n        \"max\": 205.0,\n        \"num_unique_values\": 7,\n        \"samples\": [\n          205.0,\n          2.1390243902439026,\n          3.0\n        ],\n        \"semantic_type\": \"\",\n        \"description\": \"\"\n      }\n    },\n    {\n      \"column\": \"Birthrate\",\n      \"properties\": {\n        \"dtype\": \"number\",\n        \"std\": 72.79292637690772,\n        \"min\": 7.29,\n        \"max\": 224.0,\n        \"num_unique_values\": 8,\n        \"samples\": [\n          22.114732142857147,\n          18.79,\n          224.0\n        ],\n        \"semantic_type\": \"\",\n        \"description\": \"\"\n      }\n    },\n    {\n      \"column\": \"Deathrate\",\n      \"properties\": {\n        \"dtype\": \"number\",\n        \"std\": 75.74539358909364,\n        \"min\": 2.29,\n        \"max\": 223.0,\n        \"num_unique_values\": 8,\n        \"samples\": [\n          9.241345291479819,\n          7.84,\n          223.0\n        ],\n        \"semantic_type\": \"\",\n        \"description\": \"\"\n      }\n    },\n    {\n      \"column\": \"Agriculture\",\n      \"properties\": {\n        \"dtype\": \"number\",\n        \"std\": 74.88176330389462,\n        \"min\": 0.0,\n        \"max\": 212.0,\n        \"num_unique_values\": 8,\n        \"samples\": [\n          0.15084433962264152,\n          0.099,\n          212.0\n        ],\n        \"semantic_type\": \"\",\n        \"description\": \"\"\n      }\n    },\n    {\n      \"column\": \"Industry\",\n      \"properties\": {\n        \"dtype\": \"number\",\n        \"std\": 74.49148898467487,\n        \"min\": 0.02,\n        \"max\": 211.0,\n        \"num_unique_values\": 8,\n        \"samples\": [\n          0.28271090047393366,\n          0.272,\n          211.0\n        ],\n        \"semantic_type\": \"\",\n        \"description\": \"\"\n      }\n    },\n    {\n      \"column\": \"Service\",\n      \"properties\": {\n        \"dtype\": \"number\",\n        \"std\": 74.78081616810779,\n        \"min\": 0.062,\n        \"max\": 212.0,\n        \"num_unique_values\": 8,\n        \"samples\": [\n          0.5652830188679244,\n          0.571,\n          212.0\n        ],\n        \"semantic_type\": \"\",\n        \"description\": \"\"\n      }\n    }\n  ]\n}"
            }
          },
          "metadata": {},
          "execution_count": 13
        }
      ]
    },
    {
      "cell_type": "markdown",
      "source": [
        "### Pregunta 1.7\n",
        "\n",
        "Según corresponda, realice un gráfico de distribución de densidad o histograma para describir 3 variables del `df` que usted crea más relevantes.\n",
        "\n",
        "¿Por qué es importante analizar las distribuciones de las variables a utilizar en su modelo? Ejemplifique su respuesta con al menos una de las variables del df`."
      ],
      "metadata": {
        "id": "pNRwxamuGTW0"
      }
    },
    {
      "cell_type": "code",
      "source": [
        "variablesgrafico = ['GDP ($ per capita)', 'Pop. Density (per sq. mi.)', 'Literacy (%)']\n",
        "\n",
        "plt.figure(figsize=(15, 5))\n",
        "for i, var in enumerate(variablesgrafico):\n",
        "    plt.subplot(1, 3, i+1)\n",
        "    sns.histplot(df[var], kde=True)\n",
        "    plt.title(f'Distribución de {var}')\n",
        "plt.tight_layout()\n",
        "plt.show()"
      ],
      "metadata": {
        "id": "hw1IRc6ReX62",
        "colab": {
          "base_uri": "https://localhost:8080/",
          "height": 450
        },
        "outputId": "fbd90e20-55c4-4b8b-b26e-03f88e8a9fbd"
      },
      "execution_count": 14,
      "outputs": [
        {
          "output_type": "display_data",
          "data": {
            "text/plain": [
              "<Figure size 1500x500 with 3 Axes>"
            ],
            "image/png": "[encoded data removed]"
          },
          "metadata": {}
        }
      ]
    },
    {
      "cell_type": "markdown",
      "source": [
        "\n",
        "\n",
        "\n",
        "---\n",
        "\n",
        "\n",
        "*Escriba* su respuesta en esta celda...\n",
        "\n",
        "\n",
        "---\n",
        "\n"
      ],
      "metadata": {
        "id": "yDPjO7ZlsxkW"
      }
    },
    {
      "cell_type": "markdown",
      "source": [
        "### Pregunta 1.8\n",
        "\n",
        "El df contiene variables con missing values (`NaN`). Impute los `NaN` con el método que estime conveniente, justificando su decisión.\n",
        "\n",
        "¿Es pertinente eliminar alguna de estas variables? Hágalo si es el caso."
      ],
      "metadata": {
        "id": "iD8GiEgyYOjK"
      }
    },
    {
      "cell_type": "code",
      "source": [],
      "metadata": {
        "id": "BIgxqtYKZ4xi"
      },
      "execution_count": null,
      "outputs": []
    },
    {
      "cell_type": "markdown",
      "source": [
        "\n",
        "\n",
        "\n",
        "---\n",
        "\n",
        "\n",
        "*Escriba* su respuesta y **justificación** en esta celda...\n",
        "\n",
        "\n",
        "---\n"
      ],
      "metadata": {
        "id": "YnrIjyd3s4B_"
      }
    },
    {
      "cell_type": "markdown",
      "source": [
        "### Pregunta 1.9\n",
        "\n",
        "¿Cómo distribuye el `GDP ($ per capita)` en diferentes **regiones**? Defina una forma ilustrativa de gráficar el `GDP ($ per capita)` para todas las regiones en un mismo gráfico. Interprételo."
      ],
      "metadata": {
        "id": "1iIjVTdTZ5ZP"
      }
    },
    {
      "cell_type": "code",
      "source": [
        "import seaborn as sns\n",
        "import matplotlib.pyplot as plt\n",
        "\n",
        "print(\"Columnas disponibles en el DataFrame:\")\n",
        "print(df.columns)\n",
        "\n",
        "gdp_cols = [col for col in df.columns if 'gdp' in col.lower()]\n",
        "region_cols = [col for col in df.columns if 'region' in col.lower()]\n",
        "\n",
        "print(\"\\nColumna detectada para GDP per cápita:\", gdp_cols)\n",
        "print(\"Columna detectada para región:\", region_cols)\n",
        "\n",
        "gdp_col = gdp_cols[0]\n",
        "region_col = region_cols[0]\n",
        "\n",
        "plt.figure(figsize=(12, 6))\n",
        "sns.boxplot(data=df, x=region_col, y=gdp_col)\n",
        "plt.xticks(rotation=45)\n",
        "plt.title('Distribución del GDP per cápita por región')\n",
        "plt.ylabel('GDP per cápita ($)')\n",
        "plt.xlabel('Región')\n",
        "plt.tight_layout()\n",
        "plt.show()"
      ],
      "metadata": {
        "id": "Bw9ZTqw-60f-",
        "colab": {
          "base_uri": "https://localhost:8080/",
          "height": 798
        },
        "outputId": "a6118d68-fbf0-4cd3-e592-83f2ced2bc83"
      },
      "execution_count": 20,
      "outputs": [
        {
          "output_type": "stream",
          "name": "stdout",
          "text": [
            "Columnas disponibles en el DataFrame:\n",
            "Index(['date', 'source', 'Country', 'Region', 'Population', 'Area (sq. mi.)',\n",
            "       'Pop. Density (per sq. mi.)', 'Coastline (coast/area ratio)',\n",
            "       'Net migration', 'Infant mortality (per 1000 births)',\n",
            "       'GDP ($ per capita)', 'Literacy (%)', 'Phones (per 1000)', 'Arable (%)',\n",
            "       'Crops (%)', 'Other (%)', 'Climate', 'Birthrate', 'Deathrate',\n",
            "       'Agriculture', 'Industry', 'Service'],\n",
            "      dtype='object')\n",
            "\n",
            "Columna detectada para GDP per cápita: ['GDP ($ per capita)']\n",
            "Columna detectada para región: ['Region']\n"
          ]
        },
        {
          "output_type": "display_data",
          "data": {
            "text/plain": [
              "<Figure size 1200x600 with 1 Axes>"
            ],
            "image/png": "[encoded data removed]"
          },
          "metadata": {}
        }
      ]
    },
    {
      "cell_type": "markdown",
      "source": [
        "\n",
        "\n",
        "\n",
        "---\n",
        "\n",
        "\n",
        "*Escriba* su interpretación en esta celda...\n",
        "\n",
        "\n",
        "---\n"
      ],
      "metadata": {
        "id": "5wFdt20OzKDu"
      }
    },
    {
      "cell_type": "markdown",
      "source": [
        "### Pregunta 1.10\n",
        "\n",
        "Supongamos que `GDP ($ per capita)` es su variable objetivo. Estudie la correlación de esta variable con el resto de las variables del `df`. ¿Por qué es importante analizar la correlación entre las variables?\n",
        "\n"
      ],
      "metadata": {
        "id": "WC5M0JqWwBuH"
      }
    },
    {
      "cell_type": "code",
      "source": [
        "gdp_col = [col for col in df.columns if 'gdp' in col.lower()][0]\n",
        "cor_matrix = df.corr(numeric_only=True)\n",
        "cor_with_gdp = cor_matrix[gdp_col].drop(gdp_col).sort_values(ascending=False)\n",
        "print(\"Correlación de GDP per capita con otras variables:\")\n",
        "print(cor_with_gdp)\n",
        "\n",
        "## Observar la correlación entre variables nos puede ayudar a hacer los modelos predictivos, la variables con\n",
        "## alta correlación con el GDP podrían ser mejores varibles predictivas. Permite también entender que variables podrían estar\n",
        "## relacionadas con el desarrollo económico. Evitar la multicolinealidad es importante para evitar sesgos y que se puede lograr observando\n",
        "## la correlación. Y en el caso contrario, las variables no correlacionan entre sí, se podrían eliminar o descartar.\n"
      ],
      "metadata": {
        "id": "gwFcYfHh3hYG",
        "colab": {
          "base_uri": "https://localhost:8080/"
        },
        "outputId": "c3e138fe-d2b3-43a2-f134-81c557de0c05"
      },
      "execution_count": 22,
      "outputs": [
        {
          "output_type": "stream",
          "name": "stdout",
          "text": [
            "Correlación de GDP per capita con otras variables:\n",
            "Phones (per 1000)                     0.834499\n",
            "Service                               0.550216\n",
            "Literacy (%)                          0.513144\n",
            "Net migration                         0.382461\n",
            "Climate                               0.340791\n",
            "Pop. Density (per sq. mi.)            0.195773\n",
            "Other (%)                             0.097828\n",
            "Area (sq. mi.)                        0.072185\n",
            "Coastline (coast/area ratio)          0.049118\n",
            "Arable (%)                            0.019768\n",
            "Industry                             -0.028926\n",
            "Population                           -0.039324\n",
            "Deathrate                            -0.201661\n",
            "Crops (%)                            -0.219229\n",
            "Agriculture                          -0.586769\n",
            "Infant mortality (per 1000 births)   -0.600774\n",
            "Birthrate                            -0.650137\n",
            "Name: GDP ($ per capita), dtype: float64\n"
          ]
        }
      ]
    },
    {
      "cell_type": "markdown",
      "source": [
        "\n",
        "---\n",
        "\n",
        "\n",
        "*Escriba* su respuesta en esta celda...\n",
        "\n",
        "\n",
        "---\n"
      ],
      "metadata": {
        "id": "6zal0Jvbzbsi"
      }
    },
    {
      "cell_type": "code",
      "source": [],
      "metadata": {
        "id": "rb35dIv07zFk"
      },
      "execution_count": null,
      "outputs": []
    },
    {
      "cell_type": "markdown",
      "source": [
        "### Pregunta 1.11\n",
        "\n",
        "Realice tres _scatterplots_ (uno por variable) de las tres variables con la mayor correlación con la variable objetivo.\n",
        "\n",
        "Utilizando los parámetros de la función con la que hizo los _scatterplots_, coloque un título a cada gráfico y agregue colores a los _data points_ del _scatterplot_- Use colores diferentes por cada gráfico."
      ],
      "metadata": {
        "id": "lATF2XHrwsW_"
      }
    },
    {
      "cell_type": "code",
      "source": [
        "## variable objetivo: GDP ($ per capita)\n",
        "import matplotlib.pyplot as plt\n",
        "\n",
        "plt.figure(figsize=(18, 5))\n",
        "\n",
        "plt.subplot(1, 3, 1)\n",
        "plt.scatter(df['Phones (per 1000)'], df[gdp_col], color='royalblue')\n",
        "plt.title('GDP per cápita vs Phones per 1000')\n",
        "plt.xlabel('Phones (per 1000)')\n",
        "plt.ylabel('GDP per cápita ($)')\n",
        "\n",
        "plt.subplot(1, 3, 2)\n",
        "plt.scatter(df['Birthrate'], df[gdp_col], color='crimson')\n",
        "plt.title('GDP per cápita vs Birthrate')\n",
        "plt.xlabel('Birthrate')\n",
        "plt.ylabel('GDP per cápita ($)')\n",
        "\n",
        "plt.subplot(1, 3, 3)\n",
        "plt.scatter(df['Infant mortality (per 1000 births)'], df[gdp_col], color='darkorange')\n",
        "plt.title('GDP per cápita vs Infant Mortality')\n",
        "plt.xlabel('Infant mortality (per 1000 births)')\n",
        "plt.ylabel('GDP per cápita ($)')\n",
        "\n",
        "plt.tight_layout()\n",
        "plt.show()\n"
      ],
      "metadata": {
        "id": "eOanp97kvDbf",
        "colab": {
          "base_uri": "https://localhost:8080/",
          "height": 377
        },
        "outputId": "aeead12b-25ac-4b37-a74f-9918f9d4a550"
      },
      "execution_count": 23,
      "outputs": [
        {
          "output_type": "display_data",
          "data": {
            "text/plain": [
              "<Figure size 1800x500 with 3 Axes>"
            ],
            "image/png": "[encoded data removed]"
          },
          "metadata": {}
        }
      ]
    },
    {
      "cell_type": "markdown",
      "source": [
        "### Pregunta 1.12\n",
        "\n",
        "Cree una nueva columna `GDP (%)` que represente el GDP total de cada pais (no per capita) y agreguela al dataframe."
      ],
      "metadata": {
        "id": "OaNST_hs9_yO"
      }
    },
    {
      "cell_type": "code",
      "source": [
        "gdp_pc_col = [col for col in df.columns if 'gdp' in col.lower()][0]\n",
        "pop_col = [col for col in df.columns if 'pop' in col.lower()][0]\n",
        "\n",
        "df['GDP'] = df[gdp_pc_col] * df[pop_col]\n",
        "\n",
        "df[['GDP', gdp_pc_col, pop_col]].head()"
      ],
      "metadata": {
        "id": "aGnKADjl9-0c",
        "colab": {
          "base_uri": "https://localhost:8080/",
          "height": 206
        },
        "collapsed": true,
        "outputId": "a8030dfd-1f01-4b0e-d670-1a77fdce2295"
      },
      "execution_count": 25,
      "outputs": [
        {
          "output_type": "execute_result",
          "data": {
            "text/plain": [
              "            GDP  GDP ($ per capita)  Population\n",
              "0  2.173990e+10               700.0    31056997\n",
              "1  1.611745e+10              4500.0     3581655\n",
              "2  1.975805e+11              6000.0    32930091\n",
              "3  4.623520e+08              8000.0       57794\n",
              "4  1.352819e+09             19000.0       71201"
            ],
            "text/html": [
              "\n",
              "  <div id=\"df-7023a611-1fc0-4b75-9983-1701486e0b6e\" class=\"colab-df-container\">\n",
              "    <div>\n",
              "<style scoped>\n",
              "    .dataframe tbody tr th:only-of-type {\n",
              "        vertical-align: middle;\n",
              "    }\n",
              "\n",
              "    .dataframe tbody tr th {\n",
              "        vertical-align: top;\n",
              "    }\n",
              "\n",
              "    .dataframe thead th {\n",
              "        text-align: right;\n",
              "    }\n",
              "</style>\n",
              "<table border=\"1\" class=\"dataframe\">\n",
              "  <thead>\n",
              "    <tr style=\"text-align: right;\">\n",
              "      <th></th>\n",
              "      <th>GDP</th>\n",
              "      <th>GDP ($ per capita)</th>\n",
              "      <th>Population</th>\n",
              "    </tr>\n",
              "  </thead>\n",
              "  <tbody>\n",
              "    <tr>\n",
              "      <th>0</th>\n",
              "      <td>2.173990e+10</td>\n",
              "      <td>700.0</td>\n",
              "      <td>31056997</td>\n",
              "    </tr>\n",
              "    <tr>\n",
              "      <th>1</th>\n",
              "      <td>1.611745e+10</td>\n",
              "      <td>4500.0</td>\n",
              "      <td>3581655</td>\n",
              "    </tr>\n",
              "    <tr>\n",
              "      <th>2</th>\n",
              "      <td>1.975805e+11</td>\n",
              "      <td>6000.0</td>\n",
              "      <td>32930091</td>\n",
              "    </tr>\n",
              "    <tr>\n",
              "      <th>3</th>\n",
              "      <td>4.623520e+08</td>\n",
              "      <td>8000.0</td>\n",
              "      <td>57794</td>\n",
              "    </tr>\n",
              "    <tr>\n",
              "      <th>4</th>\n",
              "      <td>1.352819e+09</td>\n",
              "      <td>19000.0</td>\n",
              "      <td>71201</td>\n",
              "    </tr>\n",
              "  </tbody>\n",
              "</table>\n",
              "</div>\n",
              "    <div class=\"colab-df-buttons\">\n",
              "\n",
              "  <div class=\"colab-df-container\">\n",
              "    <button class=\"colab-df-convert\" onclick=\"convertToInteractive('df-7023a611-1fc0-4b75-9983-1701486e0b6e')\"\n",
              "            title=\"Convert this dataframe to an interactive table.\"\n",
              "            style=\"display:none;\">\n",
              "\n",
              "  <svg xmlns=\"http://www.w3.org/2000/svg\" height=\"24px\" viewBox=\"0 -960 960 960\">\n",
              "    <path d=\"M120-120v-720h720v720H120Zm60-500h600v-160H180v160Zm220 220h160v-160H400v160Zm0 220h160v-160H400v160ZM180-400h160v-160H180v160Zm440 0h160v-160H620v160ZM180-180h160v-160H180v160Zm440 0h160v-160H620v160Z\"/>\n",
              "  </svg>\n",
              "    </button>\n",
              "\n",
              "  <style>\n",
              "    .colab-df-container {\n",
              "      display:flex;\n",
              "      gap: 12px;\n",
              "    }\n",
              "\n",
              "    .colab-df-convert {\n",
              "      background-color: #E8F0FE;\n",
              "      border: none;\n",
              "      border-radius: 50%;\n",
              "      cursor: pointer;\n",
              "      display: none;\n",
              "      fill: #1967D2;\n",
              "      height: 32px;\n",
              "      padding: 0 0 0 0;\n",
              "      width: 32px;\n",
              "    }\n",
              "\n",
              "    .colab-df-convert:hover {\n",
              "      background-color: #E2EBFA;\n",
              "      box-shadow: 0px 1px 2px rgba(60, 64, 67, 0.3), 0px 1px 3px 1px rgba(60, 64, 67, 0.15);\n",
              "      fill: #174EA6;\n",
              "    }\n",
              "\n",
              "    .colab-df-buttons div {\n",
              "      margin-bottom: 4px;\n",
              "    }\n",
              "\n",
              "    [theme=dark] .colab-df-convert {\n",
              "      background-color: #3B4455;\n",
              "      fill: #D2E3FC;\n",
              "    }\n",
              "\n",
              "    [theme=dark] .colab-df-convert:hover {\n",
              "      background-color: #434B5C;\n",
              "      box-shadow: 0px 1px 3px 1px rgba(0, 0, 0, 0.15);\n",
              "      filter: drop-shadow(0px 1px 2px rgba(0, 0, 0, 0.3));\n",
              "      fill: #FFFFFF;\n",
              "    }\n",
              "  </style>\n",
              "\n",
              "    <script>\n",
              "      const buttonEl =\n",
              "        document.querySelector('#df-7023a611-1fc0-4b75-9983-1701486e0b6e button.colab-df-convert');\n",
              "      buttonEl.style.display =\n",
              "        google.colab.kernel.accessAllowed ? 'block' : 'none';\n",
              "\n",
              "      async function convertToInteractive(key) {\n",
              "        const element = document.querySelector('#df-7023a611-1fc0-4b75-9983-1701486e0b6e');\n",
              "        const dataTable =\n",
              "          await google.colab.kernel.invokeFunction('convertToInteractive',\n",
              "                                                    [key], {});\n",
              "        if (!dataTable) return;\n",
              "\n",
              "        const docLinkHtml = 'Like what you see? Visit the ' +\n",
              "          '<a target=\"_blank\" href=https://colab.research.google.com/notebooks/data_table.ipynb>data table notebook</a>'\n",
              "          + ' to learn more about interactive tables.';\n",
              "        element.innerHTML = '';\n",
              "        dataTable['output_type'] = 'display_data';\n",
              "        await google.colab.output.renderOutput(dataTable, element);\n",
              "        const docLink = document.createElement('div');\n",
              "        docLink.innerHTML = docLinkHtml;\n",
              "        element.appendChild(docLink);\n",
              "      }\n",
              "    </script>\n",
              "  </div>\n",
              "\n",
              "\n",
              "<div id=\"df-8d1da529-ee83-4bfa-a29e-3639734be221\">\n",
              "  <button class=\"colab-df-quickchart\" onclick=\"quickchart('df-8d1da529-ee83-4bfa-a29e-3639734be221')\"\n",
              "            title=\"Suggest charts\"\n",
              "            style=\"display:none;\">\n",
              "\n",
              "<svg xmlns=\"http://www.w3.org/2000/svg\" height=\"24px\"viewBox=\"0 0 24 24\"\n",
              "     width=\"24px\">\n",
              "    <g>\n",
              "        <path d=\"M19 3H5c-1.1 0-2 .9-2 2v14c0 1.1.9 2 2 2h14c1.1 0 2-.9 2-2V5c0-1.1-.9-2-2-2zM9 17H7v-7h2v7zm4 0h-2V7h2v10zm4 0h-2v-4h2v4z\"/>\n",
              "    </g>\n",
              "</svg>\n",
              "  </button>\n",
              "\n",
              "<style>\n",
              "  .colab-df-quickchart {\n",
              "      --bg-color: #E8F0FE;\n",
              "      --fill-color: #1967D2;\n",
              "      --hover-bg-color: #E2EBFA;\n",
              "      --hover-fill-color: #174EA6;\n",
              "      --disabled-fill-color: #AAA;\n",
              "      --disabled-bg-color: #DDD;\n",
              "  }\n",
              "\n",
              "  [theme=dark] .colab-df-quickchart {\n",
              "      --bg-color: #3B4455;\n",
              "      --fill-color: #D2E3FC;\n",
              "      --hover-bg-color: #434B5C;\n",
              "      --hover-fill-color: #FFFFFF;\n",
              "      --disabled-bg-color: #3B4455;\n",
              "      --disabled-fill-color: #666;\n",
              "  }\n",
              "\n",
              "  .colab-df-quickchart {\n",
              "    background-color: var(--bg-color);\n",
              "    border: none;\n",
              "    border-radius: 50%;\n",
              "    cursor: pointer;\n",
              "    display: none;\n",
              "    fill: var(--fill-color);\n",
              "    height: 32px;\n",
              "    padding: 0;\n",
              "    width: 32px;\n",
              "  }\n",
              "\n",
              "  .colab-df-quickchart:hover {\n",
              "    background-color: var(--hover-bg-color);\n",
              "    box-shadow: 0 1px 2px rgba(60, 64, 67, 0.3), 0 1px 3px 1px rgba(60, 64, 67, 0.15);\n",
              "    fill: var(--button-hover-fill-color);\n",
              "  }\n",
              "\n",
              "  .colab-df-quickchart-complete:disabled,\n",
              "  .colab-df-quickchart-complete:disabled:hover {\n",
              "    background-color: var(--disabled-bg-color);\n",
              "    fill: var(--disabled-fill-color);\n",
              "    box-shadow: none;\n",
              "  }\n",
              "\n",
              "  .colab-df-spinner {\n",
              "    border: 2px solid var(--fill-color);\n",
              "    border-color: transparent;\n",
              "    border-bottom-color: var(--fill-color);\n",
              "    animation:\n",
              "      spin 1s steps(1) infinite;\n",
              "  }\n",
              "\n",
              "  @keyframes spin {\n",
              "    0% {\n",
              "      border-color: transparent;\n",
              "      border-bottom-color: var(--fill-color);\n",
              "      border-left-color: var(--fill-color);\n",
              "    }\n",
              "    20% {\n",
              "      border-color: transparent;\n",
              "      border-left-color: var(--fill-color);\n",
              "      border-top-color: var(--fill-color);\n",
              "    }\n",
              "    30% {\n",
              "      border-color: transparent;\n",
              "      border-left-color: var(--fill-color);\n",
              "      border-top-color: var(--fill-color);\n",
              "      border-right-color: var(--fill-color);\n",
              "    }\n",
              "    40% {\n",
              "      border-color: transparent;\n",
              "      border-right-color: var(--fill-color);\n",
              "      border-top-color: var(--fill-color);\n",
              "    }\n",
              "    60% {\n",
              "      border-color: transparent;\n",
              "      border-right-color: var(--fill-color);\n",
              "    }\n",
              "    80% {\n",
              "      border-color: transparent;\n",
              "      border-right-color: var(--fill-color);\n",
              "      border-bottom-color: var(--fill-color);\n",
              "    }\n",
              "    90% {\n",
              "      border-color: transparent;\n",
              "      border-bottom-color: var(--fill-color);\n",
              "    }\n",
              "  }\n",
              "</style>\n",
              "\n",
              "  <script>\n",
              "    async function quickchart(key) {\n",
              "      const quickchartButtonEl =\n",
              "        document.querySelector('#' + key + ' button');\n",
              "      quickchartButtonEl.disabled = true;  // To prevent multiple clicks.\n",
              "      quickchartButtonEl.classList.add('colab-df-spinner');\n",
              "      try {\n",
              "        const charts = await google.colab.kernel.invokeFunction(\n",
              "            'suggestCharts', [key], {});\n",
              "      } catch (error) {\n",
              "        console.error('Error during call to suggestCharts:', error);\n",
              "      }\n",
              "      quickchartButtonEl.classList.remove('colab-df-spinner');\n",
              "      quickchartButtonEl.classList.add('colab-df-quickchart-complete');\n",
              "    }\n",
              "    (() => {\n",
              "      let quickchartButtonEl =\n",
              "        document.querySelector('#df-8d1da529-ee83-4bfa-a29e-3639734be221 button');\n",
              "      quickchartButtonEl.style.display =\n",
              "        google.colab.kernel.accessAllowed ? 'block' : 'none';\n",
              "    })();\n",
              "  </script>\n",
              "</div>\n",
              "\n",
              "    </div>\n",
              "  </div>\n"
            ],
            "application/vnd.google.colaboratory.intrinsic+json": {
              "type": "dataframe",
              "summary": "{\n  \"name\": \"df[['GDP', gdp_pc_col, pop_col]]\",\n  \"rows\": 5,\n  \"fields\": [\n    {\n      \"column\": \"GDP\",\n      \"properties\": {\n        \"dtype\": \"number\",\n        \"std\": 84431493231.58214,\n        \"min\": 462352000.0,\n        \"max\": 197580546000.0,\n        \"num_unique_values\": 5,\n        \"samples\": [\n          16117447500.0,\n          1352819000.0,\n          197580546000.0\n        ],\n        \"semantic_type\": \"\",\n        \"description\": \"\"\n      }\n    },\n    {\n      \"column\": \"GDP ($ per capita)\",\n      \"properties\": {\n        \"dtype\": \"number\",\n        \"std\": 6890.065311736892,\n        \"min\": 700.0,\n        \"max\": 19000.0,\n        \"num_unique_values\": 5,\n        \"samples\": [\n          4500.0,\n          19000.0,\n          6000.0\n        ],\n        \"semantic_type\": \"\",\n        \"description\": \"\"\n      }\n    },\n    {\n      \"column\": \"Population\",\n      \"properties\": {\n        \"dtype\": \"number\",\n        \"std\": 16920164,\n        \"min\": 57794,\n        \"max\": 32930091,\n        \"num_unique_values\": 5,\n        \"samples\": [\n          3581655,\n          71201,\n          32930091\n        ],\n        \"semantic_type\": \"\",\n        \"description\": \"\"\n      }\n    }\n  ]\n}"
            }
          },
          "metadata": {},
          "execution_count": 25
        }
      ]
    },
    {
      "cell_type": "markdown",
      "source": [
        "### Pregunta 1.13\n",
        "\n",
        "Repita el análisis de correlaciones para `GDP ($)` excluyendo `GDP ($ per capita)` del análisis. ¿Cambian las variables que más correlacionan? Justifique."
      ],
      "metadata": {
        "id": "ltK6u0NlArvi"
      }
    },
    {
      "cell_type": "code",
      "source": [
        "cols_to_exclude = [gdp_pc_col]\n",
        "\n",
        "cor_matrix_gdp = df.drop(columns=cols_to_exclude).corr(numeric_only=True)\n",
        "cor_with_gdp_total = cor_matrix_gdp['GDP'].drop('GDP').sort_values(ascending=False)\n",
        "\n",
        "print(\"Correlación de GDP total con otras variables:\")\n",
        "print(cor_with_gdp_total)"
      ],
      "metadata": {
        "id": "RTvNpyS3-YFM",
        "colab": {
          "base_uri": "https://localhost:8080/"
        },
        "outputId": "7f189417-c0a8-41f3-f2ff-4109f6de83fc"
      },
      "execution_count": 30,
      "outputs": [
        {
          "output_type": "stream",
          "name": "stdout",
          "text": [
            "Correlación de GDP total con otras variables:\n",
            "Population                            0.639435\n",
            "Area (sq. mi.)                        0.556312\n",
            "Phones (per 1000)                     0.232506\n",
            "Arable (%)                            0.128978\n",
            "Climate                               0.121454\n",
            "Literacy (%)                          0.110977\n",
            "Service                               0.094829\n",
            "Net migration                         0.054543\n",
            "Industry                              0.043278\n",
            "Pop. Density (per sq. mi.)           -0.028738\n",
            "Deathrate                            -0.038199\n",
            "Other (%)                            -0.063273\n",
            "Coastline (coast/area ratio)         -0.065539\n",
            "Crops (%)                            -0.078896\n",
            "Infant mortality (per 1000 births)   -0.123894\n",
            "Agriculture                          -0.146380\n",
            "Birthrate                            -0.168497\n",
            "Name: GDP, dtype: float64\n"
          ]
        }
      ]
    },
    {
      "cell_type": "markdown",
      "source": [
        "\n",
        "\n",
        "\n",
        "---\n",
        "\n",
        "\n",
        "*Escriba* su **justificación** en esta celda...\n",
        "\n",
        "\n",
        "---\n"
      ],
      "metadata": {
        "id": "OVfy1nK90dPZ"
      }
    },
    {
      "cell_type": "markdown",
      "source": [
        "### Pregunta 1.14\n",
        "\n",
        "Detecte las observaciones outliers de las tres variables seleccionadas en la pregunta anterior. Además, impute estas observaciones si usted lo considera necesario. Justifique su decisión."
      ],
      "metadata": {
        "id": "muyGLrjtxk3-"
      }
    },
    {
      "cell_type": "code",
      "source": [
        "top3_vars_gdp = cor_with_gdp_total.index[:3].tolist()\n",
        "print(\"Variables con mayor correlación con GDP total:\", top3_vars_gdp)\n",
        "\n",
        "outliers_lista = {}\n",
        "\n",
        "for var in top3_vars_gdp:\n",
        "    Q1 = df[var].quantile(0.25)\n",
        "    Q3 = df[var].quantile(0.75)\n",
        "    IQR = Q3 - Q1\n",
        "    lower_q = Q1 - 1.5 * IQR\n",
        "    upper_q = Q3 + 1.5 * IQR\n",
        "\n",
        "    outliers = df[(df[var] < lower_q) | (df[var] > upper_q)]\n",
        "    outliers_lista[var] = outliers\n",
        "\n",
        "    print(f\"\\nOutliers detectados en {var}:\")\n",
        "    print(outliers[[var]])"
      ],
      "metadata": {
        "id": "L0nsyFRDxl0x",
        "colab": {
          "base_uri": "https://localhost:8080/"
        },
        "outputId": "d3031f37-8ff0-41e9-f2cd-1377ffc69eed"
      },
      "execution_count": 33,
      "outputs": [
        {
          "output_type": "stream",
          "name": "stdout",
          "text": [
            "Variables con mayor correlación con GDP total: ['Population', 'Area (sq. mi.)', 'Phones (per 1000)']\n",
            "\n",
            "Outliers detectados en Population:\n",
            "     Population\n",
            "16    147365352\n",
            "27    188078227\n",
            "32     47382633\n",
            "42   1313973713\n",
            "43     43593035\n",
            "45     62660551\n",
            "60     78887007\n",
            "65     74777981\n",
            "69     60876136\n",
            "76     82422299\n",
            "94   1095351995\n",
            "95    245452739\n",
            "96     68688433\n",
            "101    58133509\n",
            "103   127463611\n",
            "110    48846823\n",
            "135   107449525\n",
            "152   131859731\n",
            "156   165803560\n",
            "162    89468677\n",
            "169   142893540\n",
            "189    44187637\n",
            "201    64631595\n",
            "206    70413958\n",
            "211    46710816\n",
            "213    60609153\n",
            "214   298444215\n",
            "219    84402966\n",
            "\n",
            "Outliers detectados en Area (sq. mi.):\n",
            "     Area (sq. mi.)\n",
            "2           2381740\n",
            "5           1246700\n",
            "8           2766890\n",
            "11          7686850\n",
            "24          1098580\n",
            "27          8511965\n",
            "36          9984670\n",
            "40          1284000\n",
            "42          9596960\n",
            "43          1138910\n",
            "45          2345410\n",
            "65          1127127\n",
            "80          2166086\n",
            "94          3287590\n",
            "95          1919440\n",
            "96          1648000\n",
            "106         2717300\n",
            "118         1759540\n",
            "128         1240000\n",
            "135         1972550\n",
            "139         1564116\n",
            "151         1267000\n",
            "161         1285220\n",
            "169        17075200\n",
            "179         1960582\n",
            "189         1219912\n",
            "192         2505810\n",
            "214         9631420\n",
            "\n",
            "Outliers detectados en Phones (per 1000):\n",
            "     Phones (per 1000)\n",
            "138             1035.6\n"
          ]
        }
      ]
    },
    {
      "cell_type": "markdown",
      "source": [
        "\n",
        "\n",
        "\n",
        "---\n",
        "\n",
        "\n",
        "*Escriba* su **justificación** en esta celda...\n",
        "\n",
        "\n",
        "---\n",
        "\n"
      ],
      "metadata": {
        "id": "kNCuSK1OsQq4"
      }
    },
    {
      "cell_type": "markdown",
      "source": [
        "### Pregunta 1.15\n",
        "\n",
        "En los ejemplos anteriores calculamos correlaciones para `GDP ($ per capita)` y `GDP ($)`. Genere un nuevo dataframe que tenga le variación porcentual de la correlación absoluta para cada una de las columnas de características, e.g., si la correlación en valor absoluto de `GDP ($ per capita)` vs `Industry` es 0.1 y la correlación `GDP ($)` vs `Industry` es 0.5, la variación deberá ser +500%. Dicha variación porcentual puede ser positiva o negativa, pero ordene los el dataframe de tal manera que la variación de correlación absoluta sea desendiente."
      ],
      "metadata": {
        "id": "WsAxkZcBM-LT"
      }
    },
    {
      "cell_type": "code",
      "source": [
        "gdp_pc_col = [col for col in df.columns if 'gdp' in col.lower() and 'per' in col.lower()][0]\n",
        "gdp_total_col = 'GDP'\n",
        "\n",
        "cor_pc = df.corr(numeric_only=True)[gdp_pc_col].drop([gdp_pc_col, gdp_total_col]).abs()\n",
        "cor_total = df.corr(numeric_only=True)[gdp_total_col].drop([gdp_pc_col, gdp_total_col]).abs()\n",
        "\n",
        "cor_df = pd.DataFrame({\n",
        "    'corr_gdp_pc': cor_pc,\n",
        "    'corr_gdp_total': cor_total\n",
        "})\n",
        "\n",
        "cor_df['var_percent'] = ((cor_df['corr_gdp_total'] - cor_df['corr_gdp_pc']) / cor_df['corr_gdp_pc']) * 100\n",
        "cor_df_sorted = cor_df.sort_values(by='var_percent', ascending=False)\n",
        "\n",
        "import pandas as pd\n",
        "cor_df_sorted\n",
        "from IPython.display import display\n",
        "display(cor_df_sorted)\n",
        "\n",
        "## para la siguiente pregunta\n",
        "cor_df_sorted['abs_var'] = cor_df_sorted['var_percent'].abs()\n",
        "top_var = cor_df_sorted.sort_values(by='abs_var', ascending=False).iloc[0]\n",
        "print(top_var)\n"
      ],
      "metadata": {
        "id": "7f7_ZV9iM-sI",
        "colab": {
          "base_uri": "https://localhost:8080/",
          "height": 669
        },
        "outputId": "c765417b-d660-4d3c-9d76-82d3e0a593a7"
      },
      "execution_count": 36,
      "outputs": [
        {
          "output_type": "display_data",
          "data": {
            "text/plain": [
              "                                    corr_gdp_pc  corr_gdp_total  var_percent\n",
              "Population                             0.039324        0.639435  1526.048511\n",
              "Area (sq. mi.)                         0.072185        0.556312   670.674759\n",
              "Arable (%)                             0.019768        0.128978   552.462676\n",
              "Industry                               0.028926        0.043278    49.613292\n",
              "Coastline (coast/area ratio)           0.049118        0.065539    33.433153\n",
              "Other (%)                              0.097828        0.063273   -35.322101\n",
              "Crops (%)                              0.219229        0.078896   -64.012032\n",
              "Climate                                0.340791        0.121454   -64.361017\n",
              "Phones (per 1000)                      0.834499        0.232506   -72.138234\n",
              "Birthrate                              0.650137        0.168497   -74.082772\n",
              "Agriculture                            0.586769        0.146380   -75.053158\n",
              "Literacy (%)                           0.513144        0.110977   -78.373199\n",
              "Infant mortality (per 1000 births)     0.600774        0.123894   -79.377584\n",
              "Deathrate                              0.201661        0.038199   -81.057732\n",
              "Service                                0.550216        0.094829   -82.765164\n",
              "Pop. Density (per sq. mi.)             0.195773        0.028738   -85.320604\n",
              "Net migration                          0.382461        0.054543   -85.738914"
            ],
            "text/html": [
              "\n",
              "  <div id=\"df-5de4cf15-5352-4ed6-adc9-2a622b781557\" class=\"colab-df-container\">\n",
              "    <div>\n",
              "<style scoped>\n",
              "    .dataframe tbody tr th:only-of-type {\n",
              "        vertical-align: middle;\n",
              "    }\n",
              "\n",
              "    .dataframe tbody tr th {\n",
              "        vertical-align: top;\n",
              "    }\n",
              "\n",
              "    .dataframe thead th {\n",
              "        text-align: right;\n",
              "    }\n",
              "</style>\n",
              "<table border=\"1\" class=\"dataframe\">\n",
              "  <thead>\n",
              "    <tr style=\"text-align: right;\">\n",
              "      <th></th>\n",
              "      <th>corr_gdp_pc</th>\n",
              "      <th>corr_gdp_total</th>\n",
              "      <th>var_percent</th>\n",
              "    </tr>\n",
              "  </thead>\n",
              "  <tbody>\n",
              "    <tr>\n",
              "      <th>Population</th>\n",
              "      <td>0.039324</td>\n",
              "      <td>0.639435</td>\n",
              "      <td>1526.048511</td>\n",
              "    </tr>\n",
              "    <tr>\n",
              "      <th>Area (sq. mi.)</th>\n",
              "      <td>0.072185</td>\n",
              "      <td>0.556312</td>\n",
              "      <td>670.674759</td>\n",
              "    </tr>\n",
              "    <tr>\n",
              "      <th>Arable (%)</th>\n",
              "      <td>0.019768</td>\n",
              "      <td>0.128978</td>\n",
              "      <td>552.462676</td>\n",
              "    </tr>\n",
              "    <tr>\n",
              "      <th>Industry</th>\n",
              "      <td>0.028926</td>\n",
              "      <td>0.043278</td>\n",
              "      <td>49.613292</td>\n",
              "    </tr>\n",
              "    <tr>\n",
              "      <th>Coastline (coast/area ratio)</th>\n",
              "      <td>0.049118</td>\n",
              "      <td>0.065539</td>\n",
              "      <td>33.433153</td>\n",
              "    </tr>\n",
              "    <tr>\n",
              "      <th>Other (%)</th>\n",
              "      <td>0.097828</td>\n",
              "      <td>0.063273</td>\n",
              "      <td>-35.322101</td>\n",
              "    </tr>\n",
              "    <tr>\n",
              "      <th>Crops (%)</th>\n",
              "      <td>0.219229</td>\n",
              "      <td>0.078896</td>\n",
              "      <td>-64.012032</td>\n",
              "    </tr>\n",
              "    <tr>\n",
              "      <th>Climate</th>\n",
              "      <td>0.340791</td>\n",
              "      <td>0.121454</td>\n",
              "      <td>-64.361017</td>\n",
              "    </tr>\n",
              "    <tr>\n",
              "      <th>Phones (per 1000)</th>\n",
              "      <td>0.834499</td>\n",
              "      <td>0.232506</td>\n",
              "      <td>-72.138234</td>\n",
              "    </tr>\n",
              "    <tr>\n",
              "      <th>Birthrate</th>\n",
              "      <td>0.650137</td>\n",
              "      <td>0.168497</td>\n",
              "      <td>-74.082772</td>\n",
              "    </tr>\n",
              "    <tr>\n",
              "      <th>Agriculture</th>\n",
              "      <td>0.586769</td>\n",
              "      <td>0.146380</td>\n",
              "      <td>-75.053158</td>\n",
              "    </tr>\n",
              "    <tr>\n",
              "      <th>Literacy (%)</th>\n",
              "      <td>0.513144</td>\n",
              "      <td>0.110977</td>\n",
              "      <td>-78.373199</td>\n",
              "    </tr>\n",
              "    <tr>\n",
              "      <th>Infant mortality (per 1000 births)</th>\n",
              "      <td>0.600774</td>\n",
              "      <td>0.123894</td>\n",
              "      <td>-79.377584</td>\n",
              "    </tr>\n",
              "    <tr>\n",
              "      <th>Deathrate</th>\n",
              "      <td>0.201661</td>\n",
              "      <td>0.038199</td>\n",
              "      <td>-81.057732</td>\n",
              "    </tr>\n",
              "    <tr>\n",
              "      <th>Service</th>\n",
              "      <td>0.550216</td>\n",
              "      <td>0.094829</td>\n",
              "      <td>-82.765164</td>\n",
              "    </tr>\n",
              "    <tr>\n",
              "      <th>Pop. Density (per sq. mi.)</th>\n",
              "      <td>0.195773</td>\n",
              "      <td>0.028738</td>\n",
              "      <td>-85.320604</td>\n",
              "    </tr>\n",
              "    <tr>\n",
              "      <th>Net migration</th>\n",
              "      <td>0.382461</td>\n",
              "      <td>0.054543</td>\n",
              "      <td>-85.738914</td>\n",
              "    </tr>\n",
              "  </tbody>\n",
              "</table>\n",
              "</div>\n",
              "    <div class=\"colab-df-buttons\">\n",
              "\n",
              "  <div class=\"colab-df-container\">\n",
              "    <button class=\"colab-df-convert\" onclick=\"convertToInteractive('df-5de4cf15-5352-4ed6-adc9-2a622b781557')\"\n",
              "            title=\"Convert this dataframe to an interactive table.\"\n",
              "            style=\"display:none;\">\n",
              "\n",
              "  <svg xmlns=\"http://www.w3.org/2000/svg\" height=\"24px\" viewBox=\"0 -960 960 960\">\n",
              "    <path d=\"M120-120v-720h720v720H120Zm60-500h600v-160H180v160Zm220 220h160v-160H400v160Zm0 220h160v-160H400v160ZM180-400h160v-160H180v160Zm440 0h160v-160H620v160ZM180-180h160v-160H180v160Zm440 0h160v-160H620v160Z\"/>\n",
              "  </svg>\n",
              "    </button>\n",
              "\n",
              "  <style>\n",
              "    .colab-df-container {\n",
              "      display:flex;\n",
              "      gap: 12px;\n",
              "    }\n",
              "\n",
              "    .colab-df-convert {\n",
              "      background-color: #E8F0FE;\n",
              "      border: none;\n",
              "      border-radius: 50%;\n",
              "      cursor: pointer;\n",
              "      display: none;\n",
              "      fill: #1967D2;\n",
              "      height: 32px;\n",
              "      padding: 0 0 0 0;\n",
              "      width: 32px;\n",
              "    }\n",
              "\n",
              "    .colab-df-convert:hover {\n",
              "      background-color: #E2EBFA;\n",
              "      box-shadow: 0px 1px 2px rgba(60, 64, 67, 0.3), 0px 1px 3px 1px rgba(60, 64, 67, 0.15);\n",
              "      fill: #174EA6;\n",
              "    }\n",
              "\n",
              "    .colab-df-buttons div {\n",
              "      margin-bottom: 4px;\n",
              "    }\n",
              "\n",
              "    [theme=dark] .colab-df-convert {\n",
              "      background-color: #3B4455;\n",
              "      fill: #D2E3FC;\n",
              "    }\n",
              "\n",
              "    [theme=dark] .colab-df-convert:hover {\n",
              "      background-color: #434B5C;\n",
              "      box-shadow: 0px 1px 3px 1px rgba(0, 0, 0, 0.15);\n",
              "      filter: drop-shadow(0px 1px 2px rgba(0, 0, 0, 0.3));\n",
              "      fill: #FFFFFF;\n",
              "    }\n",
              "  </style>\n",
              "\n",
              "    <script>\n",
              "      const buttonEl =\n",
              "        document.querySelector('#df-5de4cf15-5352-4ed6-adc9-2a622b781557 button.colab-df-convert');\n",
              "      buttonEl.style.display =\n",
              "        google.colab.kernel.accessAllowed ? 'block' : 'none';\n",
              "\n",
              "      async function convertToInteractive(key) {\n",
              "        const element = document.querySelector('#df-5de4cf15-5352-4ed6-adc9-2a622b781557');\n",
              "        const dataTable =\n",
              "          await google.colab.kernel.invokeFunction('convertToInteractive',\n",
              "                                                    [key], {});\n",
              "        if (!dataTable) return;\n",
              "\n",
              "        const docLinkHtml = 'Like what you see? Visit the ' +\n",
              "          '<a target=\"_blank\" href=https://colab.research.google.com/notebooks/data_table.ipynb>data table notebook</a>'\n",
              "          + ' to learn more about interactive tables.';\n",
              "        element.innerHTML = '';\n",
              "        dataTable['output_type'] = 'display_data';\n",
              "        await google.colab.output.renderOutput(dataTable, element);\n",
              "        const docLink = document.createElement('div');\n",
              "        docLink.innerHTML = docLinkHtml;\n",
              "        element.appendChild(docLink);\n",
              "      }\n",
              "    </script>\n",
              "  </div>\n",
              "\n",
              "\n",
              "<div id=\"df-81a41f97-9d65-414f-b82b-ebeb0ef199ea\">\n",
              "  <button class=\"colab-df-quickchart\" onclick=\"quickchart('df-81a41f97-9d65-414f-b82b-ebeb0ef199ea')\"\n",
              "            title=\"Suggest charts\"\n",
              "            style=\"display:none;\">\n",
              "\n",
              "<svg xmlns=\"http://www.w3.org/2000/svg\" height=\"24px\"viewBox=\"0 0 24 24\"\n",
              "     width=\"24px\">\n",
              "    <g>\n",
              "        <path d=\"M19 3H5c-1.1 0-2 .9-2 2v14c0 1.1.9 2 2 2h14c1.1 0 2-.9 2-2V5c0-1.1-.9-2-2-2zM9 17H7v-7h2v7zm4 0h-2V7h2v10zm4 0h-2v-4h2v4z\"/>\n",
              "    </g>\n",
              "</svg>\n",
              "  </button>\n",
              "\n",
              "<style>\n",
              "  .colab-df-quickchart {\n",
              "      --bg-color: #E8F0FE;\n",
              "      --fill-color: #1967D2;\n",
              "      --hover-bg-color: #E2EBFA;\n",
              "      --hover-fill-color: #174EA6;\n",
              "      --disabled-fill-color: #AAA;\n",
              "      --disabled-bg-color: #DDD;\n",
              "  }\n",
              "\n",
              "  [theme=dark] .colab-df-quickchart {\n",
              "      --bg-color: #3B4455;\n",
              "      --fill-color: #D2E3FC;\n",
              "      --hover-bg-color: #434B5C;\n",
              "      --hover-fill-color: #FFFFFF;\n",
              "      --disabled-bg-color: #3B4455;\n",
              "      --disabled-fill-color: #666;\n",
              "  }\n",
              "\n",
              "  .colab-df-quickchart {\n",
              "    background-color: var(--bg-color);\n",
              "    border: none;\n",
              "    border-radius: 50%;\n",
              "    cursor: pointer;\n",
              "    display: none;\n",
              "    fill: var(--fill-color);\n",
              "    height: 32px;\n",
              "    padding: 0;\n",
              "    width: 32px;\n",
              "  }\n",
              "\n",
              "  .colab-df-quickchart:hover {\n",
              "    background-color: var(--hover-bg-color);\n",
              "    box-shadow: 0 1px 2px rgba(60, 64, 67, 0.3), 0 1px 3px 1px rgba(60, 64, 67, 0.15);\n",
              "    fill: var(--button-hover-fill-color);\n",
              "  }\n",
              "\n",
              "  .colab-df-quickchart-complete:disabled,\n",
              "  .colab-df-quickchart-complete:disabled:hover {\n",
              "    background-color: var(--disabled-bg-color);\n",
              "    fill: var(--disabled-fill-color);\n",
              "    box-shadow: none;\n",
              "  }\n",
              "\n",
              "  .colab-df-spinner {\n",
              "    border: 2px solid var(--fill-color);\n",
              "    border-color: transparent;\n",
              "    border-bottom-color: var(--fill-color);\n",
              "    animation:\n",
              "      spin 1s steps(1) infinite;\n",
              "  }\n",
              "\n",
              "  @keyframes spin {\n",
              "    0% {\n",
              "      border-color: transparent;\n",
              "      border-bottom-color: var(--fill-color);\n",
              "      border-left-color: var(--fill-color);\n",
              "    }\n",
              "    20% {\n",
              "      border-color: transparent;\n",
              "      border-left-color: var(--fill-color);\n",
              "      border-top-color: var(--fill-color);\n",
              "    }\n",
              "    30% {\n",
              "      border-color: transparent;\n",
              "      border-left-color: var(--fill-color);\n",
              "      border-top-color: var(--fill-color);\n",
              "      border-right-color: var(--fill-color);\n",
              "    }\n",
              "    40% {\n",
              "      border-color: transparent;\n",
              "      border-right-color: var(--fill-color);\n",
              "      border-top-color: var(--fill-color);\n",
              "    }\n",
              "    60% {\n",
              "      border-color: transparent;\n",
              "      border-right-color: var(--fill-color);\n",
              "    }\n",
              "    80% {\n",
              "      border-color: transparent;\n",
              "      border-right-color: var(--fill-color);\n",
              "      border-bottom-color: var(--fill-color);\n",
              "    }\n",
              "    90% {\n",
              "      border-color: transparent;\n",
              "      border-bottom-color: var(--fill-color);\n",
              "    }\n",
              "  }\n",
              "</style>\n",
              "\n",
              "  <script>\n",
              "    async function quickchart(key) {\n",
              "      const quickchartButtonEl =\n",
              "        document.querySelector('#' + key + ' button');\n",
              "      quickchartButtonEl.disabled = true;  // To prevent multiple clicks.\n",
              "      quickchartButtonEl.classList.add('colab-df-spinner');\n",
              "      try {\n",
              "        const charts = await google.colab.kernel.invokeFunction(\n",
              "            'suggestCharts', [key], {});\n",
              "      } catch (error) {\n",
              "        console.error('Error during call to suggestCharts:', error);\n",
              "      }\n",
              "      quickchartButtonEl.classList.remove('colab-df-spinner');\n",
              "      quickchartButtonEl.classList.add('colab-df-quickchart-complete');\n",
              "    }\n",
              "    (() => {\n",
              "      let quickchartButtonEl =\n",
              "        document.querySelector('#df-81a41f97-9d65-414f-b82b-ebeb0ef199ea button');\n",
              "      quickchartButtonEl.style.display =\n",
              "        google.colab.kernel.accessAllowed ? 'block' : 'none';\n",
              "    })();\n",
              "  </script>\n",
              "</div>\n",
              "\n",
              "  <div id=\"id_3c72a582-b6bc-433c-87fd-53d3d419faaf\">\n",
              "    <style>\n",
              "      .colab-df-generate {\n",
              "        background-color: #E8F0FE;\n",
              "        border: none;\n",
              "        border-radius: 50%;\n",
              "        cursor: pointer;\n",
              "        display: none;\n",
              "        fill: #1967D2;\n",
              "        height: 32px;\n",
              "        padding: 0 0 0 0;\n",
              "        width: 32px;\n",
              "      }\n",
              "\n",
              "      .colab-df-generate:hover {\n",
              "        background-color: #E2EBFA;\n",
              "        box-shadow: 0px 1px 2px rgba(60, 64, 67, 0.3), 0px 1px 3px 1px rgba(60, 64, 67, 0.15);\n",
              "        fill: #174EA6;\n",
              "      }\n",
              "\n",
              "      [theme=dark] .colab-df-generate {\n",
              "        background-color: #3B4455;\n",
              "        fill: #D2E3FC;\n",
              "      }\n",
              "\n",
              "      [theme=dark] .colab-df-generate:hover {\n",
              "        background-color: #434B5C;\n",
              "        box-shadow: 0px 1px 3px 1px rgba(0, 0, 0, 0.15);\n",
              "        filter: drop-shadow(0px 1px 2px rgba(0, 0, 0, 0.3));\n",
              "        fill: #FFFFFF;\n",
              "      }\n",
              "    </style>\n",
              "    <button class=\"colab-df-generate\" onclick=\"generateWithVariable('cor_df_sorted')\"\n",
              "            title=\"Generate code using this dataframe.\"\n",
              "            style=\"display:none;\">\n",
              "\n",
              "  <svg xmlns=\"http://www.w3.org/2000/svg\" height=\"24px\"viewBox=\"0 0 24 24\"\n",
              "       width=\"24px\">\n",
              "    <path d=\"M7,19H8.4L18.45,9,17,7.55,7,17.6ZM5,21V16.75L18.45,3.32a2,2,0,0,1,2.83,0l1.4,1.43a1.91,1.91,0,0,1,.58,1.4,1.91,1.91,0,0,1-.58,1.4L9.25,21ZM18.45,9,17,7.55Zm-12,3A5.31,5.31,0,0,0,4.9,8.1,5.31,5.31,0,0,0,1,6.5,5.31,5.31,0,0,0,4.9,4.9,5.31,5.31,0,0,0,6.5,1,5.31,5.31,0,0,0,8.1,4.9,5.31,5.31,0,0,0,12,6.5,5.46,5.46,0,0,0,6.5,12Z\"/>\n",
              "  </svg>\n",
              "    </button>\n",
              "    <script>\n",
              "      (() => {\n",
              "      const buttonEl =\n",
              "        document.querySelector('#id_3c72a582-b6bc-433c-87fd-53d3d419faaf button.colab-df-generate');\n",
              "      buttonEl.style.display =\n",
              "        google.colab.kernel.accessAllowed ? 'block' : 'none';\n",
              "\n",
              "      buttonEl.onclick = () => {\n",
              "        google.colab.notebook.generateWithVariable('cor_df_sorted');\n",
              "      }\n",
              "      })();\n",
              "    </script>\n",
              "  </div>\n",
              "\n",
              "    </div>\n",
              "  </div>\n"
            ],
            "application/vnd.google.colaboratory.intrinsic+json": {
              "type": "dataframe",
              "variable_name": "cor_df_sorted",
              "summary": "{\n  \"name\": \"cor_df_sorted\",\n  \"rows\": 17,\n  \"fields\": [\n    {\n      \"column\": \"corr_gdp_pc\",\n      \"properties\": {\n        \"dtype\": \"number\",\n        \"std\": 0.2616684195966411,\n        \"min\": 0.01976782610720278,\n        \"max\": 0.8344992754140452,\n        \"num_unique_values\": 17,\n        \"samples\": [\n          0.039324458526711785,\n          0.07218500629352362,\n          0.09782843468033425\n        ],\n        \"semantic_type\": \"\",\n        \"description\": \"\"\n      }\n    },\n    {\n      \"column\": \"corr_gdp_total\",\n      \"properties\": {\n        \"dtype\": \"number\",\n        \"std\": 0.17400973064188174,\n        \"min\": 0.028738306167734054,\n        \"max\": 0.63943477220541,\n        \"num_unique_values\": 17,\n        \"samples\": [\n          0.63943477220541,\n          0.5563116230104198,\n          0.06327337637810167\n        ],\n        \"semantic_type\": \"\",\n        \"description\": \"\"\n      }\n    },\n    {\n      \"column\": \"var_percent\",\n      \"properties\": {\n        \"dtype\": \"number\",\n        \"std\": 427.8573152664678,\n        \"min\": -85.73891428789592,\n        \"max\": 1526.048510677047,\n        \"num_unique_values\": 17,\n        \"samples\": [\n          1526.048510677047,\n          670.6747586171945,\n          -35.322100793235876\n        ],\n        \"semantic_type\": \"\",\n        \"description\": \"\"\n      }\n    }\n  ]\n}"
            }
          },
          "metadata": {}
        },
        {
          "output_type": "stream",
          "name": "stdout",
          "text": [
            "corr_gdp_pc          0.039324\n",
            "corr_gdp_total       0.639435\n",
            "var_percent       1526.048511\n",
            "abs_var           1526.048511\n",
            "Name: Population, dtype: float64\n"
          ]
        }
      ]
    },
    {
      "cell_type": "markdown",
      "source": [
        "### Pregunta 1.16\n",
        "\n",
        "Del resultado anterior, ¿qué caracerística del país tuvo una mayor diferencia absoluta el medir su correlación versus `GDP ($)` en vez de `GDP ($ per capita)`'. Interprete."
      ],
      "metadata": {
        "id": "Qt_OaXwCV5Ug"
      }
    },
    {
      "cell_type": "markdown",
      "source": [
        "\n",
        "\n",
        "---\n",
        "\n",
        "\n",
        "*Escriba* su respuesta e interpretación en esta celda...\n",
        "\n",
        "---\n",
        "\n",
        "\n",
        "\n"
      ],
      "metadata": {
        "id": "TyyJoFI2WV12"
      }
    },
    {
      "cell_type": "markdown",
      "source": [
        "## EDA con diferentes fuentes de **información**\n"
      ],
      "metadata": {
        "id": "H993HrMJ1NqT"
      }
    },
    {
      "cell_type": "markdown",
      "source": [
        "Una situación habitual en _Data Science: es el manejo de información de múltiples fuentes para un mismo propósito. En este sentido, de ahora en adelante agregaremos un dataframe adicional a nuestro set de información, disponible en [Github](https://raw.githubusercontent.com/datasets/gini-index/refs/heads/main/data/gini-index.csv). Lo llamaremos `df_gini`.\n",
        "\n",
        "Este dataset contiene información histórica del Índice de Gini (economía), el cual captura la desigualdad económica entre los quintiles de cada país. A mayor índice Gini, más desigual es un país en términos de ingresos. Para mayor información sobre los datos, puede dirigirse al [Repositorio](https://github.com/datasets/gini-index) completo. Para conocer más sobre el índice, una navegación por [Wikipedia](https://en.wikipedia.org/wiki/Gini_coefficient) debería ser suficiente."
      ],
      "metadata": {
        "id": "AZ8DaatetHdM"
      }
    },
    {
      "cell_type": "markdown",
      "source": [
        "### Pregunta 2.0\n",
        "\n",
        "Cargue la base datos, asegúrese de que la variable de año esté en un formato de \"fecha\", y usando el diccionario de mapeo por inconsistencias de nombres, `country_name_mapping`, encuentre la forma de realizar un INNER JOIN entre ambas tablas, usando el nombre del país y el año de la observación como variables por las cuales hacer el JOIN. En el diccionario `country_name_mapping`, _keys_ corresponden a los valores de la tabla `df_gini` y _values_ a los de `df`.\n",
        "\n",
        "Llame al dataframe resultante `df_merged`.\n",
        "\n",
        "Si usted no se ha percatado, los nombres en la columna `Country` de `df` poseen espacios al final de estos. Elimine los espacios antes de realizar el INNER JOIN de interés (Hint: existe una función propia de las variables tipo `string` que realiza la labor de eliminar espacios al final de la palabra).\n",
        "\n"
      ],
      "metadata": {
        "id": "FaDaLRg5tP9O"
      }
    },
    {
      "cell_type": "code",
      "source": [
        "# NO MODIFICAR, pero sí ejecutar\n",
        "country_name_mapping = {\n",
        "    \"Bahamas\": \"Bahamas, The\",\n",
        "    \"Bosnia and Herzegovina\": \"Bosnia & Herzegovina\",\n",
        "    \"Myanmar\": \"Burma\",\n",
        "    \"Cape Verde\": \"Cabo Verde\",\n",
        "    \"Central African Republic\": \"Central African Rep.\",\n",
        "    \"Congo, Rep.\": \"Congo, Repub. of the\",\n",
        "    \"Czechia\": \"Czech Republic\",\n",
        "    \"Timor-Leste\": \"East Timor\",\n",
        "    \"Egypt, Arab Rep.\": \"Egypt\",\n",
        "    \"West Bank and Gaza\": \"Gaza Strip\",\n",
        "    \"Iran, Islamic Rep.\": \"Iran\",\n",
        "    \"Korea, Dem. People's Rep.\": \"Korea, North\",\n",
        "    \"Korea, Rep.\": \"Korea, South\",\n",
        "    \"Kyrgyz Republic\": \"Kyrgyzstan\",\n",
        "    \"Lao PDR\": \"Laos\",\n",
        "    \"North Macedonia\": \"Macedonia\",\n",
        "    \"Micronesia, Fed. Sts.\": \"Micronesia, Fed. St.\",\n",
        "    \"Russian Federation\": \"Russia\",\n",
        "    \"St. Kitts and Nevis\": \"Saint Kitts & Nevis\",\n",
        "    \"St. Lucia\": \"Saint Lucia\",\n",
        "    \"St. Vincent and the Grenadines\": \"Saint Vincent and the Grenadines\",\n",
        "    \"Slovak Republic\": \"Slovakia\",\n",
        "    \"Eswatini\": \"Swaziland\",\n",
        "    \"Syrian Arab Republic\": \"Syria\",\n",
        "    \"Trinidad and Tobago\": \"Trinidad & Tobago\",\n",
        "    \"Turkiye\": \"Turkey\",\n",
        "    \"Venezuela, RB\": \"Venezuela\",\n",
        "    \"Viet Nam\": \"Vietnam\",\n",
        "    \"Yemen, Rep.\": \"Yemen\"\n",
        "}\n",
        "\n"
      ],
      "metadata": {
        "id": "pNKh8tNnOzmR"
      },
      "execution_count": null,
      "outputs": []
    },
    {
      "cell_type": "code",
      "source": [],
      "metadata": {
        "id": "93Keigc5tXgo"
      },
      "execution_count": null,
      "outputs": []
    },
    {
      "cell_type": "code",
      "source": [],
      "metadata": {
        "id": "XE_ukAyQtd5p"
      },
      "execution_count": null,
      "outputs": []
    },
    {
      "cell_type": "code",
      "source": [],
      "metadata": {
        "id": "fkgJ2-0At4VB"
      },
      "execution_count": null,
      "outputs": []
    },
    {
      "cell_type": "markdown",
      "source": [
        "### Pregunta 2.1\n",
        "\n",
        "Repita el ejercicio de la obtención de un ranking para las correlaciones absolutas, tal como lo hizo para el GDP per cápita. ¿Cuáles son las relaciones que más le sorprenden? ¿Cuáles son las que están en línea con lo que esperaba? Justifique para ambos casos.\n",
        "\n",
        "\n",
        "\n"
      ],
      "metadata": {
        "id": "0WoAL_a8009A"
      }
    },
    {
      "cell_type": "code",
      "source": [],
      "metadata": {
        "id": "ujcMlzfK01nG"
      },
      "execution_count": null,
      "outputs": []
    },
    {
      "cell_type": "markdown",
      "source": [
        "\n",
        "\n",
        "---\n",
        "\n",
        "\n",
        "*Escriba* su respuesta y justificación en esta celda...\n",
        "\n",
        "---\n",
        "\n",
        "\n",
        "\n"
      ],
      "metadata": {
        "id": "b9FvXo8c08Jo"
      }
    },
    {
      "cell_type": "markdown",
      "source": [
        "Finalmente, agregaremos una tercera base de datos al análisis, también disponible en [Github](https://raw.githubusercontent.com/datasets/co2-fossil-by-nation/refs/heads/main/data/fossil-fuel-co2-emissions-by-nation.csv) con su repectivo\n",
        "[Repositorio](https://github.com/datasets/co2-fossil-by-nation). Esta contiene emisiones de dióxido de carbono (CO2) total y por fuentes, desagregado por país. La base de datos contiene datos desde el siglo XVI y la frecuencia es anual.\n",
        "\n"
      ],
      "metadata": {
        "id": "YaK-F5dv27TY"
      }
    },
    {
      "cell_type": "markdown",
      "source": [
        "### Pregunta 2.2\n",
        "\n",
        "Cargue la base de datos llamándola `df_co2`. Asegúrese de que todas las variables estén en su correcto formato (años deben estar en un formato de fecha). ¿Qué cuidados identifica usted que debiésemos tener al momento de observar valores nulos en esta base de datos?\n",
        "\n",
        "Adicionalmente, para cada palabra en la columna `Country`, asegúrese de que la primera letra siempre sea mayúscula y que el resto de letras sean minúsculas (Hint: revise `methods` propios de las variables tipo `string`).\n",
        "\n",
        "Luego, reemplace valores en `df_co2[\"Country\"]` según el mapping otorgado. En el diccionario `country_name_mapping_co2`, _keys_ corresponden a los valores de la tabla `df_co2` y _values_ a los de `df`.\n",
        "\n",
        "\n"
      ],
      "metadata": {
        "id": "AKaCieYjT0Ta"
      }
    },
    {
      "cell_type": "code",
      "source": [
        "# NO MODIFICAR, pero sí ejecutar\n",
        "country_name_mapping_co2 = {\n",
        "    \"United States Of America\": \"United States\",\n",
        "    \"France (Including Monaco)\": \"France\",\n",
        "    \"Italy (Including San Marino)\": \"Italy\",\n",
        "    \"Plurinational State Of Bolivia\": \"Bolivia\",\n",
        "    \"Federal Republic Of Germany\": \"Germany\",\n",
        "    \"Former German Democratic Republic\": \"Germany\",\n",
        "    \"Republic Of Moldova\": \"Moldova\",\n",
        "    \"United Republic Of Tanzania\": \"Tanzania\",\n",
        "    \"Japan (Excluding The Ruyuku Islands)\": \"Japan\",\n",
        "    \"Hong Kong Special Adminstrative Region Of China\": \"Hong Kong\",\n",
        "    \"Peninsular Malaysia\": \"Malaysia\",\n",
        "    \"Democratic Republic Of The Congo (Formerly Zaire)\": \"Congo, Dem. Rep.\",\n",
        "    \"Brunei (Darussalam)\": \"Brunei\",\n",
        "    \"Myanmar (Formerly Burma)\": \"Burma\",\n",
        "    \"Syrian Arab Republic\": \"Syria\",\n",
        "    \"Islamic Republic Of Iran\": \"Iran\",\n",
        "    \"Republic Of Korea\": \"Korea, South\",\n",
        "    \"Democratic People S Republic Of Korea\": \"Korea, North\",\n",
        "    \"Russian Federation\": \"Russia\",\n",
        "    \"Viet Nam\": \"Vietnam\",\n",
        "    \"Yemen\": \"Yemen, Rep.\",\n",
        "    \"Trinidad And Tobago\": \"Trinidad & Tobago\",\n",
        "    \"Bahamas\": \"Bahamas, The\",\n",
        "    \"Micronesia\": \"Micronesia, Fed. St.\",\n",
        "    \"Slovakia\": \"Slovakia\",\n",
        "    \"St. Vincent & The Grenadines\": \"Saint Vincent and the Grenadines\",\n",
        "    \"Saint Lucia\": \"Saint Lucia\",\n",
        "    \"Antigua & Barbuda\": \"Antigua & Barbuda\",\n",
        "    \"Saint Kitts-Nevis-Anguilla\": \"Saint Kitts & Nevis\",\n",
        "    \"Netherland Antilles And Aruba\": \"Netherlands Antilles\",\n",
        "    \"Timor-Leste (Formerly East Timor)\": \"East Timor\",\n",
        "    \"Macau Special Adminstrative Region Of China\": \"Macau\",\n",
        "    \"Republic Of Cameroon\": \"Cameroon\",\n",
        "    \"Republic Of Sudan\": \"Sudan\",\n",
        "    \"Lao People S Democratic Republic\": \"Laos\",\n",
        "    \"Libyan Arab Jamahiriyah\": \"Libya\",\n",
        "    \"Cote D Ivoire\": \"Cote d'Ivoire\",\n",
        "    \"British Virgin Islands\": \"British Virgin Is.\",\n",
        "    \"Faeroe Islands\": \"Faroe Islands\",\n",
        "    \"China (Mainland)\": \"China\",\n",
        "}\n"
      ],
      "metadata": {
        "id": "NtcEqVc03dZD"
      },
      "execution_count": null,
      "outputs": []
    },
    {
      "cell_type": "code",
      "source": [],
      "metadata": {
        "id": "Ltp-kxYf3gZW"
      },
      "execution_count": null,
      "outputs": []
    },
    {
      "cell_type": "markdown",
      "source": [
        "\n",
        "\n",
        "---\n",
        "\n",
        "\n",
        "*Escriba* su respuesta y justificación en esta celda...\n",
        "\n",
        "---\n",
        "\n"
      ],
      "metadata": {
        "id": "LspdjyOa3xUS"
      }
    },
    {
      "cell_type": "markdown",
      "source": [
        "### Pregunta 2.3\n",
        "\n",
        "En un mismo gráfico, grafique las series de emisiones totales de CO2 para los siguientes países:\n",
        "\n",
        "- Reino Unido\n",
        "- Canadá\n",
        "- Alemania\n",
        "- Francia\n",
        "- Estados Unidos\n",
        "- Brasil\n",
        "- China\n",
        "- Japón\n",
        "- India\n",
        "\n",
        "\n",
        "Para cada serie, añada una leyenda con el nombre del país.\n"
      ],
      "metadata": {
        "id": "IyAErL5-3oa1"
      }
    },
    {
      "cell_type": "code",
      "source": [],
      "metadata": {
        "id": "PRaf9G5s3yoT"
      },
      "execution_count": null,
      "outputs": []
    },
    {
      "cell_type": "markdown",
      "source": [
        "### Pregunta 2.4\n",
        "\n",
        "Para el año 2007, por cada país realice un ranking de las fuentes con más emisiones de CO2 excluyendo las variables `Per Capita` y `Bunker fuels (Not in Total)`. Es decir, asigne un número de 1 a 5 a $\\{$ `Solid Fuel`, `Liquid Fuel`, `Gas Fuel`, `Cement`, `Gas Flaring` $\\}$, donde 1 es la mayor fuente de emisión de ese país en aquel año, y 5 indica que fue la menor; así para todos los países.\n",
        "\n",
        "Si en 2007 no se reporta una fuente de emisión para un país, por ejemplo, si emisiones de `Gas Flaring` no se reportara, entonces asigne números de 1 a 4 a las fuentes restantes. Análogo para un menor número de datos.\n",
        "\n",
        "Luego, por cada variable grafique un histograma de frecuencias del ranking que obtuvo la fuente emisión a lo largo de todos los países.\n",
        "\n",
        "¿Cuál fue la fuente más contaminante en la mayoría de países en 2007?\n"
      ],
      "metadata": {
        "id": "qEXra8QY37Nq"
      }
    },
    {
      "cell_type": "code",
      "source": [],
      "metadata": {
        "id": "tYYgYEQj4Plf"
      },
      "execution_count": null,
      "outputs": []
    },
    {
      "cell_type": "code",
      "source": [],
      "metadata": {
        "id": "ASN5b-v-4TIC"
      },
      "execution_count": null,
      "outputs": []
    },
    {
      "cell_type": "markdown",
      "source": [
        "\n",
        "\n",
        "---\n",
        "\n",
        "\n",
        "*Escriba* su respuesta y justificación en esta celda...\n",
        "\n",
        "---\n",
        "\n",
        "\n",
        "\n"
      ],
      "metadata": {
        "id": "IoZ-1SLf4Ydp"
      }
    },
    {
      "cell_type": "markdown",
      "source": [
        "### Pregunta 2.5\n",
        "\n",
        "Para cada serie de total de emisiones por país, calcule el cambio porcentual a través del tiempo. Realice imputación de missings si considera necesario, justificando su imputación. Si no lo considera necesario, también justifique (se evaluará un buen criterio fundamentado).\n",
        "\n",
        "Repita el ejercicio del gráfico de series de tiempo anterior, pero graficando los **cambios porcentuales** para años mayores o iguales a 1995. ¿Cómo interpretaría económicamente el shock sobre las emisiones de CO2 tanto en la crisis subprime como en la crisis del Covid-19?\n"
      ],
      "metadata": {
        "id": "WbbdLxYw4vG_"
      }
    },
    {
      "cell_type": "code",
      "source": [],
      "metadata": {
        "id": "Rww8aBNt4x4S"
      },
      "execution_count": null,
      "outputs": []
    },
    {
      "cell_type": "code",
      "source": [],
      "metadata": {
        "id": "x2hbphpP40hr"
      },
      "execution_count": null,
      "outputs": []
    },
    {
      "cell_type": "markdown",
      "source": [
        "\n",
        "---\n",
        "\n",
        "\n",
        "*Escriba* su justificación e interpretación en esta celda...\n",
        "\n",
        "\n",
        "\n",
        "---\n",
        "\n",
        "\n",
        "\n"
      ],
      "metadata": {
        "id": "CQSZZhGa47ys"
      }
    },
    {
      "cell_type": "markdown",
      "source": [
        "### Pregunta 2.6\n",
        "\n",
        "Calcule el promedio a lo largo de toda la muestra ($\\mathbb{E}[\\cdot]$) para el cambio porcentual de cada país y genere una nueva serie con la resta entre el cambio porcentual del país $i$ en el año $t$, y el promedio del cambio porcentual del país $i$. En otras palabras, genere una serie con _**desvíos del cambio porcentual promedio**_ $\\forall i,t$:\n",
        "\n",
        "$$Nueva Serie_i = \\Delta \\% TotalCO2_{i,t} - \\mathbb{E}[{\\Delta \\% TotalCO2_{i,t}}]$$\n",
        "\n",
        "Luego, para los siguientes países:\n",
        "\n",
        "- Reino Unido\n",
        "- Canadá\n",
        "- Alemania\n",
        "- Francia\n",
        "- Estados Unidos\n",
        "- Japón\n",
        "- Italia\n",
        "- España\n",
        "\n",
        "\n",
        "grafique en un panel _1x2_ la desviación del cambio porcentual respecto al promedio entre 2007 y 2010 en lado izquierdo, y entre 2017 y 2020 en el lado derecho (Hint: Hay comandos que facilitan esta labor. Puede intentar con `fig, axes = plt.subplots(1, 2, figsize=(18, 6), sharey=True)`, por ejemplo).\n",
        "\n",
        "¿Existe algún país en particular que mostró mayores desviaciones atípicas de emisión de CO2 durante el periodo de la crisis sub-prime? ¿Cómo es el comportamiento de las desviaciones atípicas de CO2 de este país durante la crisis del Covid-19?\n"
      ],
      "metadata": {
        "id": "AYIpqp3J5ei1"
      }
    },
    {
      "cell_type": "code",
      "source": [],
      "metadata": {
        "id": "aDwOdgZy5duv"
      },
      "execution_count": null,
      "outputs": []
    },
    {
      "cell_type": "markdown",
      "source": [
        "---\n",
        "\n",
        "\n",
        "*Escriba* su respuesta en esta celda...\n",
        "\n",
        "\n",
        "\n",
        "---\n",
        "\n",
        "\n",
        "\n"
      ],
      "metadata": {
        "id": "jqxlaxLi5m6C"
      }
    },
    {
      "cell_type": "markdown",
      "source": [
        "### Pregunta 2.7\n",
        "\n",
        "Genere un nuevo dataframe llamado `df_final`. Para esto, realice un INNER JOIN entre el dataframe `df_co2` y `df_merged` por \"año y país\" (debería terminar sólo con valores de 2007 si usted realiza un INNER JOIN).\n",
        "\n",
        "Finalmente, grafique un mapa de calor de correlaciones (_heatmapt_) entre las variables numéricas ,excluyendo fechas.\n",
        "\n",
        "¿Qué variables económicas, demográficas y de desarrollo humano muestran relación más importante con las emisiones de CO2? Interprete estas relaciones.\n"
      ],
      "metadata": {
        "id": "GK0bdPCgUYTu"
      }
    },
    {
      "cell_type": "code",
      "source": [],
      "metadata": {
        "id": "hauNz8pRUbwi"
      },
      "execution_count": null,
      "outputs": []
    },
    {
      "cell_type": "markdown",
      "source": [
        "---\n",
        "\n",
        "\n",
        "*Escriba* su respuesta e interpretación en esta celda...\n",
        "\n",
        "\n",
        "\n",
        "---\n"
      ],
      "metadata": {
        "id": "qIeJaVhhUetU"
      }
    }
  ]
}